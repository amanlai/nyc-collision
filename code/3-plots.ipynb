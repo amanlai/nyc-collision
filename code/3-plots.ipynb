{
 "cells": [
  {
   "cell_type": "markdown",
   "id": "b6e0c239",
   "metadata": {},
   "source": [
    "# EDA: Plots"
   ]
  },
  {
   "cell_type": "code",
   "execution_count": 1,
   "id": "ea383b02",
   "metadata": {},
   "outputs": [],
   "source": [
    "import pandas as pd\n",
    "from helpers import eda_barplots"
   ]
  },
  {
   "cell_type": "code",
   "execution_count": 2,
   "id": "32afeb4f",
   "metadata": {},
   "outputs": [],
   "source": [
    "df = pd.read_csv('../data/processed_data/data_1.csv')"
   ]
  },
  {
   "cell_type": "code",
   "execution_count": 3,
   "id": "b234aac3",
   "metadata": {},
   "outputs": [
    {
     "data": {
      "text/html": [
       "<div>\n",
       "<style scoped>\n",
       "    .dataframe tbody tr th:only-of-type {\n",
       "        vertical-align: middle;\n",
       "    }\n",
       "\n",
       "    .dataframe tbody tr th {\n",
       "        vertical-align: top;\n",
       "    }\n",
       "\n",
       "    .dataframe thead th {\n",
       "        text-align: right;\n",
       "    }\n",
       "</style>\n",
       "<table border=\"1\" class=\"dataframe\">\n",
       "  <thead>\n",
       "    <tr style=\"text-align: right;\">\n",
       "      <th></th>\n",
       "      <th>CRASH_DATETIME</th>\n",
       "      <th>CASUALTY</th>\n",
       "      <th>FRONT_OR_BACK_ENDED</th>\n",
       "      <th>GOING_STRAIGHT_AHEAD</th>\n",
       "      <th>IN_INTERSECTION</th>\n",
       "      <th>TRUCK_TAXI_BIKE</th>\n",
       "      <th>CLUSTER</th>\n",
       "    </tr>\n",
       "  </thead>\n",
       "  <tbody>\n",
       "    <tr>\n",
       "      <th>0</th>\n",
       "      <td>07/01/2012 10:40</td>\n",
       "      <td>0</td>\n",
       "      <td>0</td>\n",
       "      <td>0</td>\n",
       "      <td>0</td>\n",
       "      <td>0</td>\n",
       "      <td>45</td>\n",
       "    </tr>\n",
       "    <tr>\n",
       "      <th>1</th>\n",
       "      <td>07/01/2012 12:18</td>\n",
       "      <td>0</td>\n",
       "      <td>0</td>\n",
       "      <td>0</td>\n",
       "      <td>0</td>\n",
       "      <td>1</td>\n",
       "      <td>25</td>\n",
       "    </tr>\n",
       "    <tr>\n",
       "      <th>2</th>\n",
       "      <td>07/01/2012 18:00</td>\n",
       "      <td>0</td>\n",
       "      <td>0</td>\n",
       "      <td>0</td>\n",
       "      <td>0</td>\n",
       "      <td>0</td>\n",
       "      <td>69</td>\n",
       "    </tr>\n",
       "    <tr>\n",
       "      <th>3</th>\n",
       "      <td>07/01/2012 19:30</td>\n",
       "      <td>0</td>\n",
       "      <td>0</td>\n",
       "      <td>0</td>\n",
       "      <td>0</td>\n",
       "      <td>0</td>\n",
       "      <td>69</td>\n",
       "    </tr>\n",
       "    <tr>\n",
       "      <th>4</th>\n",
       "      <td>07/01/2012 20:00</td>\n",
       "      <td>0</td>\n",
       "      <td>0</td>\n",
       "      <td>0</td>\n",
       "      <td>0</td>\n",
       "      <td>1</td>\n",
       "      <td>58</td>\n",
       "    </tr>\n",
       "  </tbody>\n",
       "</table>\n",
       "</div>"
      ],
      "text/plain": [
       "     CRASH_DATETIME  CASUALTY  FRONT_OR_BACK_ENDED  GOING_STRAIGHT_AHEAD  \\\n",
       "0  07/01/2012 10:40         0                    0                     0   \n",
       "1  07/01/2012 12:18         0                    0                     0   \n",
       "2  07/01/2012 18:00         0                    0                     0   \n",
       "3  07/01/2012 19:30         0                    0                     0   \n",
       "4  07/01/2012 20:00         0                    0                     0   \n",
       "\n",
       "   IN_INTERSECTION  TRUCK_TAXI_BIKE  CLUSTER  \n",
       "0                0                0       45  \n",
       "1                0                1       25  \n",
       "2                0                0       69  \n",
       "3                0                0       69  \n",
       "4                0                1       58  "
      ]
     },
     "execution_count": 3,
     "metadata": {},
     "output_type": "execute_result"
    }
   ],
   "source": [
    "df.head()"
   ]
  },
  {
   "cell_type": "code",
   "execution_count": 4,
   "id": "6357c3fb",
   "metadata": {},
   "outputs": [
    {
     "data": {
      "image/png": "[encoded data removed]",
      "text/plain": [
       "<Figure size 504x360 with 1 Axes>"
      ]
     },
     "metadata": {
      "needs_background": "light"
     },
     "output_type": "display_data"
    }
   ],
   "source": [
    "eda_barplots(df, 'Serious Collision vs Vehicle Damage', 'FRONT_OR_BACK_ENDED', 'CASUALTY', \n",
    "          size=(7,5), to_filename='eda_damage', xticklabels=['Not', 'Front or Back Ended'])"
   ]
  },
  {
   "cell_type": "code",
   "execution_count": 5,
   "id": "aac64a61",
   "metadata": {},
   "outputs": [],
   "source": [
    "new = df[['GOING_STRAIGHT_AHEAD', 'IN_INTERSECTION']].copy()\n",
    "new['OTHER'] = 1 - new.sum(1)\n",
    "new['CASUALTY'] = df['CASUALTY']\n",
    "new.columns = new.columns.str.replace('_', ' ').str.title()"
   ]
  },
  {
   "cell_type": "code",
   "execution_count": 6,
   "id": "0b63c3ef",
   "metadata": {},
   "outputs": [
    {
     "data": {
      "text/plain": [
       "(279345, 4)"
      ]
     },
     "execution_count": 6,
     "metadata": {},
     "output_type": "execute_result"
    }
   ],
   "source": [
    "new.shape"
   ]
  },
  {
   "cell_type": "code",
   "execution_count": 7,
   "id": "1e50b200",
   "metadata": {},
   "outputs": [
    {
     "data": {
      "image/png": "[encoded data removed]",
      "text/plain": [
       "<Figure size 504x360 with 1 Axes>"
      ]
     },
     "metadata": {
      "needs_background": "light"
     },
     "output_type": "display_data"
    }
   ],
   "source": [
    "eda_barplots(new.set_index('Casualty', append=True).replace(0, pd.NA).stack().reset_index(), \n",
    "             'Serious Collision vs Location on Road', 'level_2', 'Casualty', \n",
    "          size=(7,5), to_filename='eda_traffic')"
   ]
  },
  {
   "cell_type": "code",
   "execution_count": 8,
   "id": "ca4ea2c1",
   "metadata": {},
   "outputs": [
    {
     "data": {
      "image/png": "[encoded data removed]",
      "text/plain": [
       "<Figure size 504x360 with 1 Axes>"
      ]
     },
     "metadata": {
      "needs_background": "light"
     },
     "output_type": "display_data"
    }
   ],
   "source": [
    "eda_barplots(df, 'Serious Collision vs Vehicle Type', 'TRUCK_TAXI_BIKE', 'CASUALTY', \n",
    "          size=(7,5), to_filename='eda_vehicle', xticklabels=['Not', 'Truck, Taxi, Motorcycle or Bicycle'])"
   ]
  },
  {
   "cell_type": "code",
   "execution_count": null,
   "id": "34832ced",
   "metadata": {},
   "outputs": [],
   "source": []
  }
 ],
 "metadata": {
  "kernelspec": {
   "display_name": "Python 3.9.12",
   "language": "python",
   "name": "python3"
  },
  "language_info": {
   "codemirror_mode": {
    "name": "ipython",
    "version": 3
   },
   "file_extension": ".py",
   "mimetype": "text/x-python",
   "name": "python",
   "nbconvert_exporter": "python",
   "pygments_lexer": "ipython3",
   "version": "3.9.12"
  }
 },
 "nbformat": 4,
 "nbformat_minor": 5
}
