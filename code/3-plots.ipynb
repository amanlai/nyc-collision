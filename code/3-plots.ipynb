{
 "cells": [
  {
   "cell_type": "markdown",
   "id": "b6e0c239",
   "metadata": {},
   "source": [
    "# EDA: Plots"
   ]
  },
  {
   "cell_type": "code",
   "execution_count": null,
   "id": "ea383b02",
   "metadata": {},
   "outputs": [],
   "source": []
  }
 ],
 "metadata": {
  "kernelspec": {
   "display_name": "Python 3.9.12",
   "language": "python",
   "name": "python3"
  },
  "language_info": {
   "codemirror_mode": {
    "name": "ipython",
    "version": 3
   },
   "file_extension": ".py",
   "mimetype": "text/x-python",
   "name": "python",
   "nbconvert_exporter": "python",
   "pygments_lexer": "ipython3",
   "version": "3.9.12"
  }
 },
 "nbformat": 4,
 "nbformat_minor": 5
}
