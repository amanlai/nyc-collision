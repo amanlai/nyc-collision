{
 "cells": [
  {
   "cell_type": "code",
   "execution_count": 1,
   "id": "bbf465cc",
   "metadata": {},
   "outputs": [],
   "source": [
    "import numpy as np\n",
    "import pandas as pd\n",
    "from sklearn.model_selection import RepeatedStratifiedKFold, cross_val_score\n",
    "from helpers import plot_bars, cross_validation\n",
    "from imblearn.over_sampling import SMOTE\n",
    "from imblearn.under_sampling import RandomUnderSampler\n",
    "from imblearn.pipeline import Pipeline\n",
    "\n",
    "from sklearn.dummy import DummyClassifier\n",
    "from sklearn.linear_model import LogisticRegression\n",
    "from sklearn.ensemble import RandomForestClassifier\n",
    "from sklearn.tree import DecisionTreeClassifier\n",
    "from sklearn.ensemble import VotingClassifier\n",
    "\n",
    "from sklearn.metrics import f1_score"
   ]
  },
  {
   "cell_type": "code",
   "execution_count": 2,
   "id": "1efbd76a",
   "metadata": {},
   "outputs": [],
   "source": [
    "df = pd.read_csv('../data/processed_data/data_1.csv')"
   ]
  },
  {
   "cell_type": "code",
   "execution_count": 3,
   "id": "ce6762d8",
   "metadata": {},
   "outputs": [
    {
     "data": {
      "text/html": [
       "<div>\n",
       "<style scoped>\n",
       "    .dataframe tbody tr th:only-of-type {\n",
       "        vertical-align: middle;\n",
       "    }\n",
       "\n",
       "    .dataframe tbody tr th {\n",
       "        vertical-align: top;\n",
       "    }\n",
       "\n",
       "    .dataframe thead th {\n",
       "        text-align: right;\n",
       "    }\n",
       "</style>\n",
       "<table border=\"1\" class=\"dataframe\">\n",
       "  <thead>\n",
       "    <tr style=\"text-align: right;\">\n",
       "      <th></th>\n",
       "      <th>CRASH_DATETIME</th>\n",
       "      <th>CASUALTY</th>\n",
       "      <th>FRONT_OR_BACK_ENDED</th>\n",
       "      <th>GOING_STRAIGHT_AHEAD</th>\n",
       "      <th>IN_INTERSECTION</th>\n",
       "      <th>TRUCK_TAXI_BIKE</th>\n",
       "      <th>CLUSTER</th>\n",
       "    </tr>\n",
       "  </thead>\n",
       "  <tbody>\n",
       "    <tr>\n",
       "      <th>0</th>\n",
       "      <td>07/01/2012 10:40</td>\n",
       "      <td>0</td>\n",
       "      <td>0</td>\n",
       "      <td>0</td>\n",
       "      <td>0</td>\n",
       "      <td>0</td>\n",
       "      <td>45</td>\n",
       "    </tr>\n",
       "    <tr>\n",
       "      <th>1</th>\n",
       "      <td>07/01/2012 12:18</td>\n",
       "      <td>0</td>\n",
       "      <td>0</td>\n",
       "      <td>0</td>\n",
       "      <td>0</td>\n",
       "      <td>1</td>\n",
       "      <td>25</td>\n",
       "    </tr>\n",
       "    <tr>\n",
       "      <th>2</th>\n",
       "      <td>07/01/2012 18:00</td>\n",
       "      <td>0</td>\n",
       "      <td>0</td>\n",
       "      <td>0</td>\n",
       "      <td>0</td>\n",
       "      <td>0</td>\n",
       "      <td>69</td>\n",
       "    </tr>\n",
       "    <tr>\n",
       "      <th>3</th>\n",
       "      <td>07/01/2012 19:30</td>\n",
       "      <td>0</td>\n",
       "      <td>0</td>\n",
       "      <td>0</td>\n",
       "      <td>0</td>\n",
       "      <td>0</td>\n",
       "      <td>69</td>\n",
       "    </tr>\n",
       "    <tr>\n",
       "      <th>4</th>\n",
       "      <td>07/01/2012 20:00</td>\n",
       "      <td>0</td>\n",
       "      <td>0</td>\n",
       "      <td>0</td>\n",
       "      <td>0</td>\n",
       "      <td>1</td>\n",
       "      <td>58</td>\n",
       "    </tr>\n",
       "  </tbody>\n",
       "</table>\n",
       "</div>"
      ],
      "text/plain": [
       "     CRASH_DATETIME  CASUALTY  FRONT_OR_BACK_ENDED  GOING_STRAIGHT_AHEAD  \\\n",
       "0  07/01/2012 10:40         0                    0                     0   \n",
       "1  07/01/2012 12:18         0                    0                     0   \n",
       "2  07/01/2012 18:00         0                    0                     0   \n",
       "3  07/01/2012 19:30         0                    0                     0   \n",
       "4  07/01/2012 20:00         0                    0                     0   \n",
       "\n",
       "   IN_INTERSECTION  TRUCK_TAXI_BIKE  CLUSTER  \n",
       "0                0                0       45  \n",
       "1                0                1       25  \n",
       "2                0                0       69  \n",
       "3                0                0       69  \n",
       "4                0                1       58  "
      ]
     },
     "execution_count": 3,
     "metadata": {},
     "output_type": "execute_result"
    }
   ],
   "source": [
    "df.head()"
   ]
  },
  {
   "cell_type": "markdown",
   "id": "09cb5b0a",
   "metadata": {},
   "source": [
    "# Preprocessing"
   ]
  },
  {
   "cell_type": "code",
   "execution_count": 4,
   "id": "a21e30e4",
   "metadata": {},
   "outputs": [],
   "source": [
    "df['CRASH_DATETIME'] = pd.to_datetime(df['CRASH_DATETIME'])"
   ]
  },
  {
   "cell_type": "code",
   "execution_count": 5,
   "id": "b1a42203",
   "metadata": {},
   "outputs": [],
   "source": [
    "df['IS_NIGHT'] = df['CRASH_DATETIME'].dt.hour.isin([*range(8), *range(19, 25)]).astype(int)"
   ]
  },
  {
   "cell_type": "markdown",
   "id": "fc31dadb",
   "metadata": {},
   "source": [
    "### Make cluster into a binary variable"
   ]
  },
  {
   "cell_type": "code",
   "execution_count": 6,
   "id": "89771501",
   "metadata": {},
   "outputs": [],
   "source": [
    "most_accidents = df.groupby('CLUSTER')['CASUALTY'].mean().loc[lambda x: x > df['CASUALTY'].mean()].index\n",
    "arr = np.unique(df['CLUSTER'])\n",
    "filtered = arr[~np.isin(arr, most_accidents)]\n",
    "colors = pd.concat([pd.Series(0, index=filtered), pd.Series(1, index=most_accidents)])\n",
    "df['CLUSTER'] = df['CLUSTER'].map(colors)"
   ]
  },
  {
   "cell_type": "code",
   "execution_count": 7,
   "id": "0e5d726f",
   "metadata": {},
   "outputs": [],
   "source": [
    "X = df.drop(columns=['CRASH_DATETIME', 'CASUALTY'])\n",
    "y = df['CASUALTY']"
   ]
  },
  {
   "cell_type": "code",
   "execution_count": 15,
   "id": "a582ed67",
   "metadata": {},
   "outputs": [],
   "source": [
    "def get_pipeline(model, **kwargs):\n",
    "    pipe = Pipeline([\n",
    "        ('o', SMOTE(sampling_strategy=0.3, random_state=2022)), \n",
    "        ('u', RandomUnderSampler(sampling_strategy=0.5, random_state=2022)), \n",
    "        ('m', model(**kwargs))\n",
    "    ])\n",
    "    return pipe"
   ]
  },
  {
   "cell_type": "markdown",
   "id": "bf6dd953",
   "metadata": {},
   "source": [
    "# Baseline Model"
   ]
  },
  {
   "cell_type": "code",
   "execution_count": 16,
   "id": "b285b0a3",
   "metadata": {},
   "outputs": [
    {
     "name": "stdout",
     "output_type": "stream",
     "text": [
      "5-Fold Cross Validation Average F1-score = 0.0\n"
     ]
    }
   ],
   "source": [
    "dummy_pipe = get_pipeline(DummyClassifier)\n",
    "dummy = cross_val_score(dummy_pipe, X, y, scoring='f1', n_jobs=-1).mean()\n",
    "print(\"5-Fold Cross Validation Average F1-score =\", dummy)"
   ]
  },
  {
   "cell_type": "markdown",
   "id": "21c578b1",
   "metadata": {},
   "source": [
    "# Logistic Regression"
   ]
  },
  {
   "cell_type": "code",
   "execution_count": 17,
   "id": "beb50173",
   "metadata": {},
   "outputs": [
    {
     "name": "stdout",
     "output_type": "stream",
     "text": [
      "5-Fold Cross Validation Average F1-score = 0.237782339710429\n"
     ]
    }
   ],
   "source": [
    "log_pipe = get_pipeline(LogisticRegression)\n",
    "log = cross_val_score(log_pipe, X, y, scoring='f1', n_jobs=-1).mean()\n",
    "print(\"5-Fold Cross Validation Average F1-score =\", log)"
   ]
  },
  {
   "cell_type": "markdown",
   "id": "1316190e",
   "metadata": {},
   "source": [
    "# Random Forest"
   ]
  },
  {
   "cell_type": "code",
   "execution_count": 18,
   "id": "563814b7",
   "metadata": {},
   "outputs": [
    {
     "name": "stdout",
     "output_type": "stream",
     "text": [
      "5-Fold Cross Validation Average F1-score = 0.2583330730665293\n"
     ]
    }
   ],
   "source": [
    "rf_pipe = get_pipeline(RandomForestClassifier)\n",
    "rf = cross_val_score(rf_pipe, X, y, scoring='f1', n_jobs=-1).mean()\n",
    "print(\"5-Fold Cross Validation Average F1-score =\", rf)"
   ]
  },
  {
   "cell_type": "markdown",
   "id": "93395c2c",
   "metadata": {},
   "source": [
    "# Decision Tree"
   ]
  },
  {
   "cell_type": "code",
   "execution_count": 19,
   "id": "b20054a7",
   "metadata": {},
   "outputs": [
    {
     "name": "stdout",
     "output_type": "stream",
     "text": [
      "5-Fold Cross Validation Average F1-score = 0.25943150204792703\n"
     ]
    }
   ],
   "source": [
    "tree_pipe = get_pipeline(DecisionTreeClassifier)\n",
    "tree = cross_val_score(tree_pipe, X, y, scoring='f1', n_jobs=-1).mean()\n",
    "print(\"5-Fold Cross Validation Average F1-score =\", tree)"
   ]
  },
  {
   "cell_type": "markdown",
   "id": "2e7f13a1",
   "metadata": {},
   "source": [
    "# Ensemble"
   ]
  },
  {
   "cell_type": "code",
   "execution_count": 20,
   "id": "c5306e3f",
   "metadata": {},
   "outputs": [
    {
     "name": "stdout",
     "output_type": "stream",
     "text": [
      "5-Fold Cross Validation Average F1-score = 0.25943150204792703\n"
     ]
    }
   ],
   "source": [
    "models = [\n",
    "    ('lr', LogisticRegression()),\n",
    "    ('rf', RandomForestClassifier(n_jobs=-1)),\n",
    "    ('tree', DecisionTreeClassifier())\n",
    "]\n",
    "\n",
    "ensemble_pipe = get_pipeline(VotingClassifier, estimators=models)\n",
    "ensemble = cross_val_score(ensemble_pipe, X, y, scoring='f1', n_jobs=-1).mean()\n",
    "print(\"5-Fold Cross Validation Average F1-score =\", ensemble)"
   ]
  },
  {
   "cell_type": "markdown",
   "id": "e107a717",
   "metadata": {},
   "source": [
    "# Plot the F1 scores"
   ]
  },
  {
   "cell_type": "code",
   "execution_count": 22,
   "id": "f3632535",
   "metadata": {},
   "outputs": [],
   "source": [
    "data_to_plot = pd.DataFrame({\n",
    "    'model': ['Baseline', 'Logistic Regression', 'Random Forest', 'Decision Tree', 'Ensemble'],\n",
    "    'Scores': [dummy, log, rf, tree, ensemble]}\n",
    ").sort_values('Scores')"
   ]
  },
  {
   "cell_type": "code",
   "execution_count": 23,
   "id": "ba200429",
   "metadata": {},
   "outputs": [
    {
     "data": {
      "image/png": "[encoded data removed]",
      "text/plain": [
       "<Figure size 864x360 with 1 Axes>"
      ]
     },
     "metadata": {
      "needs_background": "light"
     },
     "output_type": "display_data"
    }
   ],
   "source": [
    "plot_bars(\n",
    "    x='model', y='Scores', data=data_to_plot.query('model != \"Baseline\"'), \n",
    "    to_filename='fifth_pass', baseline=data_to_plot.loc[data_to_plot['model'] == \"Baseline\", 'Scores'].iat[-1], \n",
    "    title='F1 Scores (Fourth Pass)'\n",
    ")"
   ]
  },
  {
   "cell_type": "code",
   "execution_count": null,
   "id": "e8c6cb58",
   "metadata": {},
   "outputs": [],
   "source": []
  }
 ],
 "metadata": {
  "kernelspec": {
   "display_name": "Python 3.9.12",
   "language": "python",
   "name": "python3"
  },
  "language_info": {
   "codemirror_mode": {
    "name": "ipython",
    "version": 3
   },
   "file_extension": ".py",
   "mimetype": "text/x-python",
   "name": "python",
   "nbconvert_exporter": "python",
   "pygments_lexer": "ipython3",
   "version": "3.9.12"
  }
 },
 "nbformat": 4,
 "nbformat_minor": 5
}
