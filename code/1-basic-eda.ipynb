{
 "cells": [
  {
   "cell_type": "markdown",
   "id": "26e0b7e2",
   "metadata": {},
   "source": [
    "# Basic Exploratory Analysis"
   ]
  },
  {
   "cell_type": "markdown",
   "id": "fc97e816",
   "metadata": {},
   "source": [
    "## 1. Read data\n",
    "\n",
    "Because the dataset is massive, we will only focus on Manhattan."
   ]
  },
  {
   "cell_type": "code",
   "execution_count": 1,
   "id": "0605b691",
   "metadata": {},
   "outputs": [],
   "source": [
    "import pandas as pd\n",
    "import numpy as np"
   ]
  },
  {
   "cell_type": "code",
   "execution_count": 2,
   "id": "fd9d96b2",
   "metadata": {},
   "outputs": [
    {
     "name": "stderr",
     "output_type": "stream",
     "text": [
      "C:\\Users\\Manlaigiin\\AppData\\Local\\Temp\\ipykernel_8396\\3657282000.py:1: DtypeWarning: Columns (3) have mixed types. Specify dtype option on import or set low_memory=False.\n",
      "  crashes = pd.read_csv('../data/raw_data/Motor_Vehicle_Collisions_-_Crashes.csv')\n"
     ]
    }
   ],
   "source": [
    "crashes = pd.read_csv('../data/raw_data/Motor_Vehicle_Collisions_-_Crashes.csv')"
   ]
  },
  {
   "cell_type": "code",
   "execution_count": 3,
   "id": "8017f47c",
   "metadata": {},
   "outputs": [],
   "source": [
    "collision_ids = crashes.loc[crashes['BOROUGH'] == 'MANHATTAN', 'COLLISION_ID']\n",
    "crashes = crashes.query(\"COLLISION_ID in @collision_ids\")"
   ]
  },
  {
   "cell_type": "code",
   "execution_count": 4,
   "id": "851f7627",
   "metadata": {},
   "outputs": [
    {
     "data": {
      "text/plain": [
       "Index(['CRASH DATE', 'CRASH TIME', 'BOROUGH', 'ZIP CODE', 'LATITUDE',\n",
       "       'LONGITUDE', 'LOCATION', 'ON STREET NAME', 'CROSS STREET NAME',\n",
       "       'OFF STREET NAME', 'NUMBER OF PERSONS INJURED',\n",
       "       'NUMBER OF PERSONS KILLED', 'NUMBER OF PEDESTRIANS INJURED',\n",
       "       'NUMBER OF PEDESTRIANS KILLED', 'NUMBER OF CYCLIST INJURED',\n",
       "       'NUMBER OF CYCLIST KILLED', 'NUMBER OF MOTORIST INJURED',\n",
       "       'NUMBER OF MOTORIST KILLED', 'CONTRIBUTING FACTOR VEHICLE 1',\n",
       "       'CONTRIBUTING FACTOR VEHICLE 2', 'CONTRIBUTING FACTOR VEHICLE 3',\n",
       "       'CONTRIBUTING FACTOR VEHICLE 4', 'CONTRIBUTING FACTOR VEHICLE 5',\n",
       "       'COLLISION_ID', 'VEHICLE TYPE CODE 1', 'VEHICLE TYPE CODE 2',\n",
       "       'VEHICLE TYPE CODE 3', 'VEHICLE TYPE CODE 4', 'VEHICLE TYPE CODE 5'],\n",
       "      dtype='object')"
      ]
     },
     "execution_count": 4,
     "metadata": {},
     "output_type": "execute_result"
    }
   ],
   "source": [
    "crashes.columns"
   ]
  },
  {
   "cell_type": "code",
   "execution_count": 5,
   "id": "8f680e86",
   "metadata": {},
   "outputs": [
    {
     "name": "stderr",
     "output_type": "stream",
     "text": [
      "C:\\Users\\Manlaigiin\\AppData\\Local\\Temp\\ipykernel_8396\\355120935.py:1: DtypeWarning: Columns (0,8) have mixed types. Specify dtype option on import or set low_memory=False.\n",
      "  vehicles = pd.read_csv('../data/raw_data/Motor_Vehicle_Collisions_-_Vehicles.csv')\n"
     ]
    }
   ],
   "source": [
    "vehicles = pd.read_csv('../data/raw_data/Motor_Vehicle_Collisions_-_Vehicles.csv')"
   ]
  },
  {
   "cell_type": "code",
   "execution_count": 6,
   "id": "9c89f8d2",
   "metadata": {},
   "outputs": [],
   "source": [
    "vehicles = vehicles.query(\"COLLISION_ID in @collision_ids\")"
   ]
  },
  {
   "cell_type": "code",
   "execution_count": 7,
   "id": "63b6e7da",
   "metadata": {},
   "outputs": [
    {
     "data": {
      "text/plain": [
       "Index(['UNIQUE_ID', 'COLLISION_ID', 'CRASH_DATE', 'CRASH_TIME', 'VEHICLE_ID',\n",
       "       'STATE_REGISTRATION', 'VEHICLE_TYPE', 'VEHICLE_MAKE', 'VEHICLE_MODEL',\n",
       "       'VEHICLE_YEAR', 'TRAVEL_DIRECTION', 'VEHICLE_OCCUPANTS', 'DRIVER_SEX',\n",
       "       'DRIVER_LICENSE_STATUS', 'DRIVER_LICENSE_JURISDICTION', 'PRE_CRASH',\n",
       "       'POINT_OF_IMPACT', 'VEHICLE_DAMAGE', 'VEHICLE_DAMAGE_1',\n",
       "       'VEHICLE_DAMAGE_2', 'VEHICLE_DAMAGE_3', 'PUBLIC_PROPERTY_DAMAGE',\n",
       "       'PUBLIC_PROPERTY_DAMAGE_TYPE', 'CONTRIBUTING_FACTOR_1',\n",
       "       'CONTRIBUTING_FACTOR_2'],\n",
       "      dtype='object')"
      ]
     },
     "execution_count": 7,
     "metadata": {},
     "output_type": "execute_result"
    }
   ],
   "source": [
    "vehicles.columns"
   ]
  },
  {
   "cell_type": "code",
   "execution_count": 8,
   "id": "ec2600ed",
   "metadata": {},
   "outputs": [],
   "source": [
    "persons = pd.read_csv('../data/raw_data/Motor_Vehicle_Collisions_-_Person.csv')\n",
    "persons = persons.query(\"COLLISION_ID in @collision_ids\")"
   ]
  },
  {
   "cell_type": "markdown",
   "id": "9b06fd7c",
   "metadata": {},
   "source": [
    "The column names of `crashes` has empty space as word separators while the other two has underscore as separators. Let's first normalize it to underscores."
   ]
  },
  {
   "cell_type": "code",
   "execution_count": 9,
   "id": "3da7c362",
   "metadata": {},
   "outputs": [],
   "source": [
    "crashes.columns = [c.replace(' ', '_') for c in crashes]"
   ]
  },
  {
   "cell_type": "markdown",
   "id": "f4812900",
   "metadata": {},
   "source": [
    "### Check for common columns"
   ]
  },
  {
   "cell_type": "code",
   "execution_count": 10,
   "id": "fb55f380",
   "metadata": {},
   "outputs": [
    {
     "data": {
      "text/plain": [
       "Index(['CRASH_DATE', 'CRASH_TIME', 'COLLISION_ID'], dtype='object')"
      ]
     },
     "execution_count": 10,
     "metadata": {},
     "output_type": "execute_result"
    }
   ],
   "source": [
    "crashes.columns.intersection(vehicles.columns)"
   ]
  },
  {
   "cell_type": "markdown",
   "id": "df1f6d38",
   "metadata": {},
   "source": [
    "## 2. Merge the datasets on matching keys (and common columns)\n",
    "\n",
    "The following is the schema for the three datasets.\n",
    "\n",
    "![image.png](../images/schema.png)"
   ]
  },
  {
   "cell_type": "code",
   "execution_count": 11,
   "id": "429bc633",
   "metadata": {},
   "outputs": [],
   "source": [
    "common_cols = ['CRASH_DATE', 'CRASH_TIME', 'COLLISION_ID']\n",
    "\n",
    "df = (\n",
    "    crashes\n",
    "    .merge(vehicles, on=common_cols)\n",
    "#    .merge(persons, left_on=[*common_cols, 'UNIQUE_ID'], right_on=[*common_cols, 'VEHICLE_ID'])\n",
    ")"
   ]
  },
  {
   "cell_type": "code",
   "execution_count": 12,
   "id": "ccfbac99",
   "metadata": {},
   "outputs": [
    {
     "data": {
      "text/plain": [
       "(558724, 51)"
      ]
     },
     "execution_count": 12,
     "metadata": {},
     "output_type": "execute_result"
    }
   ],
   "source": [
    "df.shape"
   ]
  },
  {
   "cell_type": "code",
   "execution_count": 13,
   "id": "4127162b",
   "metadata": {},
   "outputs": [
    {
     "data": {
      "text/plain": [
       "Index(['CRASH_DATE', 'CRASH_TIME', 'BOROUGH', 'ZIP_CODE', 'LATITUDE',\n",
       "       'LONGITUDE', 'LOCATION', 'ON_STREET_NAME', 'CROSS_STREET_NAME',\n",
       "       'OFF_STREET_NAME', 'NUMBER_OF_PERSONS_INJURED',\n",
       "       'NUMBER_OF_PERSONS_KILLED', 'NUMBER_OF_PEDESTRIANS_INJURED',\n",
       "       'NUMBER_OF_PEDESTRIANS_KILLED', 'NUMBER_OF_CYCLIST_INJURED',\n",
       "       'NUMBER_OF_CYCLIST_KILLED', 'NUMBER_OF_MOTORIST_INJURED',\n",
       "       'NUMBER_OF_MOTORIST_KILLED', 'CONTRIBUTING_FACTOR_VEHICLE_1',\n",
       "       'CONTRIBUTING_FACTOR_VEHICLE_2', 'CONTRIBUTING_FACTOR_VEHICLE_3',\n",
       "       'CONTRIBUTING_FACTOR_VEHICLE_4', 'CONTRIBUTING_FACTOR_VEHICLE_5',\n",
       "       'COLLISION_ID', 'VEHICLE_TYPE_CODE_1', 'VEHICLE_TYPE_CODE_2',\n",
       "       'VEHICLE_TYPE_CODE_3', 'VEHICLE_TYPE_CODE_4', 'VEHICLE_TYPE_CODE_5',\n",
       "       'UNIQUE_ID', 'VEHICLE_ID', 'STATE_REGISTRATION', 'VEHICLE_TYPE',\n",
       "       'VEHICLE_MAKE', 'VEHICLE_MODEL', 'VEHICLE_YEAR', 'TRAVEL_DIRECTION',\n",
       "       'VEHICLE_OCCUPANTS', 'DRIVER_SEX', 'DRIVER_LICENSE_STATUS',\n",
       "       'DRIVER_LICENSE_JURISDICTION', 'PRE_CRASH', 'POINT_OF_IMPACT',\n",
       "       'VEHICLE_DAMAGE', 'VEHICLE_DAMAGE_1', 'VEHICLE_DAMAGE_2',\n",
       "       'VEHICLE_DAMAGE_3', 'PUBLIC_PROPERTY_DAMAGE',\n",
       "       'PUBLIC_PROPERTY_DAMAGE_TYPE', 'CONTRIBUTING_FACTOR_1',\n",
       "       'CONTRIBUTING_FACTOR_2'],\n",
       "      dtype='object')"
      ]
     },
     "execution_count": 13,
     "metadata": {},
     "output_type": "execute_result"
    }
   ],
   "source": [
    "df.columns"
   ]
  },
  {
   "cell_type": "markdown",
   "id": "88ab09c4",
   "metadata": {},
   "source": [
    "## 3. Handling duplicate columns"
   ]
  },
  {
   "cell_type": "code",
   "execution_count": 14,
   "id": "a45ce063",
   "metadata": {},
   "outputs": [
    {
     "data": {
      "text/html": [
       "<div>\n",
       "<style scoped>\n",
       "    .dataframe tbody tr th:only-of-type {\n",
       "        vertical-align: middle;\n",
       "    }\n",
       "\n",
       "    .dataframe tbody tr th {\n",
       "        vertical-align: top;\n",
       "    }\n",
       "\n",
       "    .dataframe thead th {\n",
       "        text-align: right;\n",
       "    }\n",
       "</style>\n",
       "<table border=\"1\" class=\"dataframe\">\n",
       "  <thead>\n",
       "    <tr style=\"text-align: right;\">\n",
       "      <th></th>\n",
       "    </tr>\n",
       "  </thead>\n",
       "  <tbody>\n",
       "    <tr>\n",
       "      <th>0</th>\n",
       "    </tr>\n",
       "    <tr>\n",
       "      <th>1</th>\n",
       "    </tr>\n",
       "    <tr>\n",
       "      <th>2</th>\n",
       "    </tr>\n",
       "  </tbody>\n",
       "</table>\n",
       "</div>"
      ],
      "text/plain": [
       "Empty DataFrame\n",
       "Columns: []\n",
       "Index: [0, 1, 2]"
      ]
     },
     "execution_count": 14,
     "metadata": {},
     "output_type": "execute_result"
    }
   ],
   "source": [
    "df.loc[:, df.columns.str.contains('_x$|_y$')].head(3)"
   ]
  },
  {
   "cell_type": "markdown",
   "id": "14e1bd43",
   "metadata": {},
   "source": [
    "First, drop ID columns. Since we have `Latitude` and `Longitude` data, `Location` is redundant."
   ]
  },
  {
   "cell_type": "code",
   "execution_count": 15,
   "id": "ec793192",
   "metadata": {},
   "outputs": [],
   "source": [
    "to_drop = [\n",
    "    'BOROUGH', 'LOCATION', 'ZIP_CODE', \n",
    "    'ON_STREET_NAME', 'CROSS_STREET_NAME', 'OFF_STREET_NAME',\n",
    "    'VEHICLE_ID', 'UNIQUE_ID',\n",
    "    'VEHICLE_MODEL'\n",
    "]\n",
    "\n",
    "df.drop(columns=to_drop, inplace=True)"
   ]
  },
  {
   "cell_type": "code",
   "execution_count": 16,
   "id": "cd438430",
   "metadata": {},
   "outputs": [
    {
     "data": {
      "text/plain": [
       "(558724, 42)"
      ]
     },
     "execution_count": 16,
     "metadata": {},
     "output_type": "execute_result"
    }
   ],
   "source": [
    "df.shape"
   ]
  },
  {
   "cell_type": "code",
   "execution_count": 17,
   "id": "fc67a066",
   "metadata": {},
   "outputs": [
    {
     "data": {
      "text/html": [
       "<div>\n",
       "<style scoped>\n",
       "    .dataframe tbody tr th:only-of-type {\n",
       "        vertical-align: middle;\n",
       "    }\n",
       "\n",
       "    .dataframe tbody tr th {\n",
       "        vertical-align: top;\n",
       "    }\n",
       "\n",
       "    .dataframe thead th {\n",
       "        text-align: right;\n",
       "    }\n",
       "</style>\n",
       "<table border=\"1\" class=\"dataframe\">\n",
       "  <thead>\n",
       "    <tr style=\"text-align: right;\">\n",
       "      <th></th>\n",
       "      <th>CONTRIBUTING_FACTOR_VEHICLE_1</th>\n",
       "      <th>CONTRIBUTING_FACTOR_VEHICLE_2</th>\n",
       "      <th>CONTRIBUTING_FACTOR_VEHICLE_3</th>\n",
       "      <th>CONTRIBUTING_FACTOR_VEHICLE_4</th>\n",
       "      <th>CONTRIBUTING_FACTOR_VEHICLE_5</th>\n",
       "      <th>CONTRIBUTING_FACTOR_1</th>\n",
       "      <th>CONTRIBUTING_FACTOR_2</th>\n",
       "    </tr>\n",
       "  </thead>\n",
       "  <tbody>\n",
       "    <tr>\n",
       "      <th>0</th>\n",
       "      <td>Passing or Lane Usage Improper</td>\n",
       "      <td>Unspecified</td>\n",
       "      <td>NaN</td>\n",
       "      <td>NaN</td>\n",
       "      <td>NaN</td>\n",
       "      <td>Passing or Lane Usage Improper</td>\n",
       "      <td>Driver Inattention/Distraction</td>\n",
       "    </tr>\n",
       "    <tr>\n",
       "      <th>1</th>\n",
       "      <td>Passing or Lane Usage Improper</td>\n",
       "      <td>Unspecified</td>\n",
       "      <td>NaN</td>\n",
       "      <td>NaN</td>\n",
       "      <td>NaN</td>\n",
       "      <td>Unspecified</td>\n",
       "      <td>Unspecified</td>\n",
       "    </tr>\n",
       "    <tr>\n",
       "      <th>2</th>\n",
       "      <td>Unspecified</td>\n",
       "      <td>NaN</td>\n",
       "      <td>NaN</td>\n",
       "      <td>NaN</td>\n",
       "      <td>NaN</td>\n",
       "      <td>NaN</td>\n",
       "      <td>NaN</td>\n",
       "    </tr>\n",
       "  </tbody>\n",
       "</table>\n",
       "</div>"
      ],
      "text/plain": [
       "    CONTRIBUTING_FACTOR_VEHICLE_1 CONTRIBUTING_FACTOR_VEHICLE_2  \\\n",
       "0  Passing or Lane Usage Improper                   Unspecified   \n",
       "1  Passing or Lane Usage Improper                   Unspecified   \n",
       "2                     Unspecified                           NaN   \n",
       "\n",
       "  CONTRIBUTING_FACTOR_VEHICLE_3 CONTRIBUTING_FACTOR_VEHICLE_4  \\\n",
       "0                           NaN                           NaN   \n",
       "1                           NaN                           NaN   \n",
       "2                           NaN                           NaN   \n",
       "\n",
       "  CONTRIBUTING_FACTOR_VEHICLE_5           CONTRIBUTING_FACTOR_1  \\\n",
       "0                           NaN  Passing or Lane Usage Improper   \n",
       "1                           NaN                     Unspecified   \n",
       "2                           NaN                             NaN   \n",
       "\n",
       "            CONTRIBUTING_FACTOR_2  \n",
       "0  Driver Inattention/Distraction  \n",
       "1                     Unspecified  \n",
       "2                             NaN  "
      ]
     },
     "execution_count": 17,
     "metadata": {},
     "output_type": "execute_result"
    }
   ],
   "source": [
    "df.filter(like='CONTRIBUTING').head(3)"
   ]
  },
  {
   "cell_type": "code",
   "execution_count": 18,
   "id": "f087c6c1",
   "metadata": {},
   "outputs": [
    {
     "data": {
      "text/plain": [
       "CONTRIBUTING_FACTOR_VEHICLE_1    0.002769\n",
       "CONTRIBUTING_FACTOR_VEHICLE_2    0.096030\n",
       "CONTRIBUTING_FACTOR_VEHICLE_3    0.945376\n",
       "CONTRIBUTING_FACTOR_VEHICLE_4    0.987142\n",
       "CONTRIBUTING_FACTOR_VEHICLE_5    0.995704\n",
       "CONTRIBUTING_FACTOR_1            0.025995\n",
       "CONTRIBUTING_FACTOR_2            0.554768\n",
       "dtype: float64"
      ]
     },
     "execution_count": 18,
     "metadata": {},
     "output_type": "execute_result"
    }
   ],
   "source": [
    "df.filter(like='CONTRIBUTING').isna().mean()"
   ]
  },
  {
   "cell_type": "code",
   "execution_count": 19,
   "id": "709d760a",
   "metadata": {},
   "outputs": [
    {
     "data": {
      "text/html": [
       "<div>\n",
       "<style scoped>\n",
       "    .dataframe tbody tr th:only-of-type {\n",
       "        vertical-align: middle;\n",
       "    }\n",
       "\n",
       "    .dataframe tbody tr th {\n",
       "        vertical-align: top;\n",
       "    }\n",
       "\n",
       "    .dataframe thead th {\n",
       "        text-align: right;\n",
       "    }\n",
       "</style>\n",
       "<table border=\"1\" class=\"dataframe\">\n",
       "  <thead>\n",
       "    <tr style=\"text-align: right;\">\n",
       "      <th></th>\n",
       "      <th>VEHICLE_TYPE_CODE_1</th>\n",
       "      <th>VEHICLE_TYPE_CODE_2</th>\n",
       "      <th>VEHICLE_TYPE_CODE_3</th>\n",
       "      <th>VEHICLE_TYPE_CODE_4</th>\n",
       "      <th>VEHICLE_TYPE_CODE_5</th>\n",
       "      <th>VEHICLE_TYPE</th>\n",
       "    </tr>\n",
       "  </thead>\n",
       "  <tbody>\n",
       "    <tr>\n",
       "      <th>0</th>\n",
       "      <td>Station Wagon/Sport Utility Vehicle</td>\n",
       "      <td>NaN</td>\n",
       "      <td>NaN</td>\n",
       "      <td>NaN</td>\n",
       "      <td>NaN</td>\n",
       "      <td>NaN</td>\n",
       "    </tr>\n",
       "    <tr>\n",
       "      <th>1</th>\n",
       "      <td>Station Wagon/Sport Utility Vehicle</td>\n",
       "      <td>NaN</td>\n",
       "      <td>NaN</td>\n",
       "      <td>NaN</td>\n",
       "      <td>NaN</td>\n",
       "      <td>Station Wagon/Sport Utility Vehicle</td>\n",
       "    </tr>\n",
       "    <tr>\n",
       "      <th>2</th>\n",
       "      <td>Station Wagon/Sport Utility Vehicle</td>\n",
       "      <td>NaN</td>\n",
       "      <td>NaN</td>\n",
       "      <td>NaN</td>\n",
       "      <td>NaN</td>\n",
       "      <td>NaN</td>\n",
       "    </tr>\n",
       "  </tbody>\n",
       "</table>\n",
       "</div>"
      ],
      "text/plain": [
       "                   VEHICLE_TYPE_CODE_1 VEHICLE_TYPE_CODE_2  \\\n",
       "0  Station Wagon/Sport Utility Vehicle                 NaN   \n",
       "1  Station Wagon/Sport Utility Vehicle                 NaN   \n",
       "2  Station Wagon/Sport Utility Vehicle                 NaN   \n",
       "\n",
       "  VEHICLE_TYPE_CODE_3 VEHICLE_TYPE_CODE_4 VEHICLE_TYPE_CODE_5  \\\n",
       "0                 NaN                 NaN                 NaN   \n",
       "1                 NaN                 NaN                 NaN   \n",
       "2                 NaN                 NaN                 NaN   \n",
       "\n",
       "                          VEHICLE_TYPE  \n",
       "0                                  NaN  \n",
       "1  Station Wagon/Sport Utility Vehicle  \n",
       "2                                  NaN  "
      ]
     },
     "execution_count": 19,
     "metadata": {},
     "output_type": "execute_result"
    }
   ],
   "source": [
    "df.filter(regex='^VEHICLE_TYPE').head(3)"
   ]
  },
  {
   "cell_type": "code",
   "execution_count": 20,
   "id": "139482b9",
   "metadata": {},
   "outputs": [
    {
     "data": {
      "text/plain": [
       "VEHICLE_TYPE_CODE_1    0.003538\n",
       "VEHICLE_TYPE_CODE_2    0.098616\n",
       "VEHICLE_TYPE_CODE_3    0.945925\n",
       "VEHICLE_TYPE_CODE_4    0.987305\n",
       "VEHICLE_TYPE_CODE_5    0.995755\n",
       "VEHICLE_TYPE           0.028902\n",
       "dtype: float64"
      ]
     },
     "execution_count": 20,
     "metadata": {},
     "output_type": "execute_result"
    }
   ],
   "source": [
    "df.filter(regex='^VEHICLE_TYPE').isna().mean()"
   ]
  },
  {
   "cell_type": "code",
   "execution_count": 21,
   "id": "a12f572e",
   "metadata": {},
   "outputs": [
    {
     "data": {
      "text/html": [
       "<div>\n",
       "<style scoped>\n",
       "    .dataframe tbody tr th:only-of-type {\n",
       "        vertical-align: middle;\n",
       "    }\n",
       "\n",
       "    .dataframe tbody tr th {\n",
       "        vertical-align: top;\n",
       "    }\n",
       "\n",
       "    .dataframe thead th {\n",
       "        text-align: right;\n",
       "    }\n",
       "</style>\n",
       "<table border=\"1\" class=\"dataframe\">\n",
       "  <thead>\n",
       "    <tr style=\"text-align: right;\">\n",
       "      <th></th>\n",
       "      <th>VEHICLE_DAMAGE</th>\n",
       "      <th>VEHICLE_DAMAGE_1</th>\n",
       "      <th>VEHICLE_DAMAGE_2</th>\n",
       "      <th>VEHICLE_DAMAGE_3</th>\n",
       "    </tr>\n",
       "  </thead>\n",
       "  <tbody>\n",
       "    <tr>\n",
       "      <th>0</th>\n",
       "      <td>No Damage</td>\n",
       "      <td>NaN</td>\n",
       "      <td>NaN</td>\n",
       "      <td>NaN</td>\n",
       "    </tr>\n",
       "    <tr>\n",
       "      <th>1</th>\n",
       "      <td>Other</td>\n",
       "      <td>NaN</td>\n",
       "      <td>NaN</td>\n",
       "      <td>NaN</td>\n",
       "    </tr>\n",
       "    <tr>\n",
       "      <th>2</th>\n",
       "      <td>NaN</td>\n",
       "      <td>NaN</td>\n",
       "      <td>NaN</td>\n",
       "      <td>NaN</td>\n",
       "    </tr>\n",
       "  </tbody>\n",
       "</table>\n",
       "</div>"
      ],
      "text/plain": [
       "  VEHICLE_DAMAGE VEHICLE_DAMAGE_1 VEHICLE_DAMAGE_2 VEHICLE_DAMAGE_3\n",
       "0      No Damage              NaN              NaN              NaN\n",
       "1          Other              NaN              NaN              NaN\n",
       "2            NaN              NaN              NaN              NaN"
      ]
     },
     "execution_count": 21,
     "metadata": {},
     "output_type": "execute_result"
    }
   ],
   "source": [
    "df.filter(regex='^VEHICLE_DAMAGE').head(3)"
   ]
  },
  {
   "cell_type": "code",
   "execution_count": 22,
   "id": "6591bf78",
   "metadata": {},
   "outputs": [
    {
     "data": {
      "text/plain": [
       "VEHICLE_DAMAGE      0.558723\n",
       "VEHICLE_DAMAGE_1    0.732041\n",
       "VEHICLE_DAMAGE_2    0.785264\n",
       "VEHICLE_DAMAGE_3    0.811555\n",
       "dtype: float64"
      ]
     },
     "execution_count": 22,
     "metadata": {},
     "output_type": "execute_result"
    }
   ],
   "source": [
    "df.filter(regex='^VEHICLE_DAMAGE').isna().mean()"
   ]
  },
  {
   "cell_type": "markdown",
   "id": "f34c4265",
   "metadata": {},
   "source": [
    "All these columns basically record the same thing, so we'll only keep the one colmn and drop the rest."
   ]
  },
  {
   "cell_type": "code",
   "execution_count": 23,
   "id": "5fe1a962",
   "metadata": {},
   "outputs": [],
   "source": [
    "df['VEHICLE_TYPE_CODE'] = df.filter(regex='^VEHICLE_TYPE').bfill(axis=1).iloc[:, 0]\n",
    "df['CONTRIBUTING_FACTOR'] = df.filter(like='CONTRIBUTING').bfill(axis=1).iloc[:, 0]\n",
    "df['VEHICLE_DAMAGE'] = df.filter(regex='VEHICLE_DAMAGE').bfill(axis=1).iloc[:, 0]\n",
    "\n",
    "to_drop = [\n",
    "    'CONTRIBUTING_FACTOR_1', 'CONTRIBUTING_FACTOR_2',\n",
    "    'CONTRIBUTING_FACTOR_VEHICLE_1', 'CONTRIBUTING_FACTOR_VEHICLE_2', 'CONTRIBUTING_FACTOR_VEHICLE_3',\n",
    "    'CONTRIBUTING_FACTOR_VEHICLE_4', 'CONTRIBUTING_FACTOR_VEHICLE_5', \n",
    "    'VEHICLE_TYPE_CODE_1', 'VEHICLE_TYPE_CODE_2', 'VEHICLE_TYPE_CODE_3', 'VEHICLE_TYPE_CODE_4', 'VEHICLE_TYPE_CODE_5',\n",
    "    'VEHICLE_DAMAGE_1', 'VEHICLE_DAMAGE_2', 'VEHICLE_DAMAGE_3'\n",
    "]\n",
    "\n",
    "df.drop(columns=to_drop, inplace=True)"
   ]
  },
  {
   "cell_type": "code",
   "execution_count": 24,
   "id": "17dfb28d",
   "metadata": {},
   "outputs": [
    {
     "data": {
      "text/plain": [
       "(558724, 29)"
      ]
     },
     "execution_count": 24,
     "metadata": {},
     "output_type": "execute_result"
    }
   ],
   "source": [
    "df.shape"
   ]
  },
  {
   "cell_type": "markdown",
   "id": "87875274",
   "metadata": {},
   "source": [
    "## 4. Handle columns with too many missing values"
   ]
  },
  {
   "cell_type": "code",
   "execution_count": 25,
   "id": "f7f8a29d",
   "metadata": {},
   "outputs": [
    {
     "data": {
      "text/plain": [
       "PUBLIC_PROPERTY_DAMAGE_TYPE    0.997455\n",
       "dtype: float64"
      ]
     },
     "execution_count": 25,
     "metadata": {},
     "output_type": "execute_result"
    }
   ],
   "source": [
    "df.isna().mean().pipe(lambda x: x[x > 0.95])"
   ]
  },
  {
   "cell_type": "code",
   "execution_count": 26,
   "id": "358c4f05",
   "metadata": {},
   "outputs": [],
   "source": [
    "to_drop = [\n",
    "    'PUBLIC_PROPERTY_DAMAGE_TYPE'\n",
    "]\n",
    "\n",
    "df.drop(columns=to_drop, inplace=True)"
   ]
  },
  {
   "cell_type": "markdown",
   "id": "d1b9c46b",
   "metadata": {},
   "source": [
    "## 5. Create the target variable\n",
    "\n",
    "- The total number of people injured or killed in an accident will be summed up.\n",
    "- Location data will be important, so any collision without any location data will be dropped."
   ]
  },
  {
   "cell_type": "code",
   "execution_count": 27,
   "id": "695ba19b",
   "metadata": {},
   "outputs": [
    {
     "data": {
      "text/plain": [
       "LATITUDE     0.032198\n",
       "LONGITUDE    0.032198\n",
       "dtype: float64"
      ]
     },
     "execution_count": 27,
     "metadata": {},
     "output_type": "execute_result"
    }
   ],
   "source": [
    "df[['LATITUDE', 'LONGITUDE']].mask(lambda x: x == 0).isna().mean()"
   ]
  },
  {
   "cell_type": "code",
   "execution_count": 28,
   "id": "29ea402a",
   "metadata": {},
   "outputs": [],
   "source": [
    "to_drop = [\n",
    "    'NUMBER_OF_PERSONS_INJURED', 'NUMBER_OF_PERSONS_KILLED',\n",
    "    'NUMBER_OF_PEDESTRIANS_INJURED', 'NUMBER_OF_PEDESTRIANS_KILLED',\n",
    "    'NUMBER_OF_CYCLIST_INJURED', 'NUMBER_OF_CYCLIST_KILLED',\n",
    "    'NUMBER_OF_MOTORIST_INJURED', 'NUMBER_OF_MOTORIST_KILLED'\n",
    "]\n",
    "\n",
    "df[['LATITUDE', 'LONGITUDE']] = df[['LATITUDE', 'LONGITUDE']].mask(lambda x: x == 0)\n",
    "df.dropna(subset=['LATITUDE', 'LONGITUDE'], inplace=True)\n",
    "df['CASUALTY'] = df[to_drop].sum(1).gt(0).astype(int)\n",
    "\n",
    "df.drop(columns=to_drop, inplace=True)"
   ]
  },
  {
   "cell_type": "markdown",
   "id": "9f29f5b1",
   "metadata": {},
   "source": [
    "### 5.1. See other columns"
   ]
  },
  {
   "cell_type": "code",
   "execution_count": 29,
   "id": "a23feeaa",
   "metadata": {},
   "outputs": [
    {
     "data": {
      "text/plain": [
       "Index(['CASUALTY', 'CONTRIBUTING_FACTOR', 'DRIVER_LICENSE_JURISDICTION',\n",
       "       'DRIVER_LICENSE_STATUS', 'DRIVER_SEX', 'POINT_OF_IMPACT', 'PRE_CRASH',\n",
       "       'PUBLIC_PROPERTY_DAMAGE', 'STATE_REGISTRATION', 'TRAVEL_DIRECTION',\n",
       "       'VEHICLE_DAMAGE', 'VEHICLE_MAKE', 'VEHICLE_OCCUPANTS', 'VEHICLE_TYPE',\n",
       "       'VEHICLE_TYPE_CODE', 'VEHICLE_YEAR'],\n",
       "      dtype='object')"
      ]
     },
     "execution_count": 29,
     "metadata": {},
     "output_type": "execute_result"
    }
   ],
   "source": [
    "df.columns.difference(crashes.columns)"
   ]
  },
  {
   "cell_type": "code",
   "execution_count": 30,
   "id": "2788329b",
   "metadata": {},
   "outputs": [
    {
     "data": {
      "text/plain": [
       "Index(['CASUALTY', 'CONTRIBUTING_FACTOR', 'LATITUDE', 'LONGITUDE',\n",
       "       'VEHICLE_TYPE_CODE'],\n",
       "      dtype='object')"
      ]
     },
     "execution_count": 30,
     "metadata": {},
     "output_type": "execute_result"
    }
   ],
   "source": [
    "df.columns.difference(vehicles.columns)"
   ]
  },
  {
   "cell_type": "code",
   "execution_count": 31,
   "id": "08217e44",
   "metadata": {},
   "outputs": [
    {
     "data": {
      "text/plain": [
       "CRASH_DATE                     0.000000\n",
       "CRASH_TIME                     0.000000\n",
       "LATITUDE                       0.000000\n",
       "LONGITUDE                      0.000000\n",
       "COLLISION_ID                   0.000000\n",
       "STATE_REGISTRATION             0.040081\n",
       "VEHICLE_TYPE                   0.027875\n",
       "VEHICLE_MAKE                   0.604504\n",
       "VEHICLE_YEAR                   0.606518\n",
       "TRAVEL_DIRECTION               0.569075\n",
       "VEHICLE_OCCUPANTS              0.583943\n",
       "DRIVER_SEX                     0.638042\n",
       "DRIVER_LICENSE_STATUS          0.654958\n",
       "DRIVER_LICENSE_JURISDICTION    0.651934\n",
       "PRE_CRASH                      0.296650\n",
       "POINT_OF_IMPACT                0.572938\n",
       "VEHICLE_DAMAGE                 0.575901\n",
       "PUBLIC_PROPERTY_DAMAGE         0.553555\n",
       "VEHICLE_TYPE_CODE              0.003270\n",
       "CONTRIBUTING_FACTOR            0.002809\n",
       "CASUALTY                       0.000000\n",
       "dtype: float64"
      ]
     },
     "execution_count": 31,
     "metadata": {},
     "output_type": "execute_result"
    }
   ],
   "source": [
    "df.isna().mean()"
   ]
  },
  {
   "cell_type": "markdown",
   "id": "7689073f",
   "metadata": {},
   "source": [
    "## 6. Dummify License"
   ]
  },
  {
   "cell_type": "code",
   "execution_count": 32,
   "id": "c0338b6b",
   "metadata": {},
   "outputs": [
    {
     "data": {
      "text/html": [
       "<div>\n",
       "<style scoped>\n",
       "    .dataframe tbody tr th:only-of-type {\n",
       "        vertical-align: middle;\n",
       "    }\n",
       "\n",
       "    .dataframe tbody tr th {\n",
       "        vertical-align: top;\n",
       "    }\n",
       "\n",
       "    .dataframe thead th {\n",
       "        text-align: right;\n",
       "    }\n",
       "</style>\n",
       "<table border=\"1\" class=\"dataframe\">\n",
       "  <thead>\n",
       "    <tr style=\"text-align: right;\">\n",
       "      <th></th>\n",
       "      <th>size</th>\n",
       "      <th>mean</th>\n",
       "    </tr>\n",
       "    <tr>\n",
       "      <th>STATE_REGISTRATION</th>\n",
       "      <th></th>\n",
       "      <th></th>\n",
       "    </tr>\n",
       "  </thead>\n",
       "  <tbody>\n",
       "    <tr>\n",
       "      <th>False</th>\n",
       "      <td>128665</td>\n",
       "      <td>0.144507</td>\n",
       "    </tr>\n",
       "    <tr>\n",
       "      <th>True</th>\n",
       "      <td>412069</td>\n",
       "      <td>0.133174</td>\n",
       "    </tr>\n",
       "  </tbody>\n",
       "</table>\n",
       "</div>"
      ],
      "text/plain": [
       "                      size      mean\n",
       "STATE_REGISTRATION                  \n",
       "False               128665  0.144507\n",
       "True                412069  0.133174"
      ]
     },
     "execution_count": 32,
     "metadata": {},
     "output_type": "execute_result"
    }
   ],
   "source": [
    "df.groupby(df['STATE_REGISTRATION'].isin(['NY']))['CASUALTY'].agg(['size', 'mean'])"
   ]
  },
  {
   "cell_type": "code",
   "execution_count": 33,
   "id": "d83ba73a",
   "metadata": {},
   "outputs": [
    {
     "data": {
      "text/html": [
       "<div>\n",
       "<style scoped>\n",
       "    .dataframe tbody tr th:only-of-type {\n",
       "        vertical-align: middle;\n",
       "    }\n",
       "\n",
       "    .dataframe tbody tr th {\n",
       "        vertical-align: top;\n",
       "    }\n",
       "\n",
       "    .dataframe thead th {\n",
       "        text-align: right;\n",
       "    }\n",
       "</style>\n",
       "<table border=\"1\" class=\"dataframe\">\n",
       "  <thead>\n",
       "    <tr style=\"text-align: right;\">\n",
       "      <th></th>\n",
       "      <th>size</th>\n",
       "      <th>mean</th>\n",
       "    </tr>\n",
       "    <tr>\n",
       "      <th>DRIVER_LICENSE_JURISDICTION</th>\n",
       "      <th></th>\n",
       "      <th></th>\n",
       "    </tr>\n",
       "  </thead>\n",
       "  <tbody>\n",
       "    <tr>\n",
       "      <th>False</th>\n",
       "      <td>392089</td>\n",
       "      <td>0.126913</td>\n",
       "    </tr>\n",
       "    <tr>\n",
       "      <th>True</th>\n",
       "      <td>148645</td>\n",
       "      <td>0.159501</td>\n",
       "    </tr>\n",
       "  </tbody>\n",
       "</table>\n",
       "</div>"
      ],
      "text/plain": [
       "                               size      mean\n",
       "DRIVER_LICENSE_JURISDICTION                  \n",
       "False                        392089  0.126913\n",
       "True                         148645  0.159501"
      ]
     },
     "execution_count": 33,
     "metadata": {},
     "output_type": "execute_result"
    }
   ],
   "source": [
    "df.groupby(df['DRIVER_LICENSE_JURISDICTION'].eq('NY'))['CASUALTY'].agg(['size', 'mean'])"
   ]
  },
  {
   "cell_type": "code",
   "execution_count": 34,
   "id": "c66cfcc0",
   "metadata": {},
   "outputs": [
    {
     "data": {
      "text/html": [
       "<div>\n",
       "<style scoped>\n",
       "    .dataframe tbody tr th:only-of-type {\n",
       "        vertical-align: middle;\n",
       "    }\n",
       "\n",
       "    .dataframe tbody tr th {\n",
       "        vertical-align: top;\n",
       "    }\n",
       "\n",
       "    .dataframe thead th {\n",
       "        text-align: right;\n",
       "    }\n",
       "</style>\n",
       "<table border=\"1\" class=\"dataframe\">\n",
       "  <thead>\n",
       "    <tr style=\"text-align: right;\">\n",
       "      <th></th>\n",
       "      <th>size</th>\n",
       "      <th>mean</th>\n",
       "    </tr>\n",
       "    <tr>\n",
       "      <th>DRIVER_LICENSE_JURISDICTION</th>\n",
       "      <th></th>\n",
       "      <th></th>\n",
       "    </tr>\n",
       "  </thead>\n",
       "  <tbody>\n",
       "    <tr>\n",
       "      <th>False</th>\n",
       "      <td>365982</td>\n",
       "      <td>0.128042</td>\n",
       "    </tr>\n",
       "    <tr>\n",
       "      <th>True</th>\n",
       "      <td>174752</td>\n",
       "      <td>0.152267</td>\n",
       "    </tr>\n",
       "  </tbody>\n",
       "</table>\n",
       "</div>"
      ],
      "text/plain": [
       "                               size      mean\n",
       "DRIVER_LICENSE_JURISDICTION                  \n",
       "False                        365982  0.128042\n",
       "True                         174752  0.152267"
      ]
     },
     "execution_count": 34,
     "metadata": {},
     "output_type": "execute_result"
    }
   ],
   "source": [
    "df.groupby(df['DRIVER_LICENSE_JURISDICTION'].isin(['NY', 'NJ', 'CT']))['CASUALTY'].agg(['size', 'mean'])"
   ]
  },
  {
   "cell_type": "markdown",
   "id": "2753a221",
   "metadata": {},
   "source": [
    "## 7. Drop unnecessary columns\n",
    "\n",
    "There are a lot of object dtype columns that could be dummified or just dropped. Let's see if any of them are worth keeping."
   ]
  },
  {
   "cell_type": "code",
   "execution_count": 35,
   "id": "a2a2fc53",
   "metadata": {},
   "outputs": [
    {
     "data": {
      "text/html": [
       "<div>\n",
       "<style scoped>\n",
       "    .dataframe tbody tr th:only-of-type {\n",
       "        vertical-align: middle;\n",
       "    }\n",
       "\n",
       "    .dataframe tbody tr th {\n",
       "        vertical-align: top;\n",
       "    }\n",
       "\n",
       "    .dataframe thead th {\n",
       "        text-align: right;\n",
       "    }\n",
       "</style>\n",
       "<table border=\"1\" class=\"dataframe\">\n",
       "  <thead>\n",
       "    <tr style=\"text-align: right;\">\n",
       "      <th></th>\n",
       "      <th>size</th>\n",
       "      <th>mean</th>\n",
       "    </tr>\n",
       "    <tr>\n",
       "      <th>DRIVER_LICENSE_STATUS</th>\n",
       "      <th></th>\n",
       "      <th></th>\n",
       "    </tr>\n",
       "  </thead>\n",
       "  <tbody>\n",
       "    <tr>\n",
       "      <th>Licensed</th>\n",
       "      <td>183212</td>\n",
       "      <td>0.148265</td>\n",
       "    </tr>\n",
       "    <tr>\n",
       "      <th>Permit</th>\n",
       "      <td>1088</td>\n",
       "      <td>0.305147</td>\n",
       "    </tr>\n",
       "    <tr>\n",
       "      <th>Unlicensed</th>\n",
       "      <td>2276</td>\n",
       "      <td>0.464851</td>\n",
       "    </tr>\n",
       "  </tbody>\n",
       "</table>\n",
       "</div>"
      ],
      "text/plain": [
       "                         size      mean\n",
       "DRIVER_LICENSE_STATUS                  \n",
       "Licensed               183212  0.148265\n",
       "Permit                   1088  0.305147\n",
       "Unlicensed               2276  0.464851"
      ]
     },
     "execution_count": 35,
     "metadata": {},
     "output_type": "execute_result"
    }
   ],
   "source": [
    "df.groupby('DRIVER_LICENSE_STATUS')['CASUALTY'].agg(['size', 'mean'])"
   ]
  },
  {
   "cell_type": "code",
   "execution_count": 36,
   "id": "655d7aa9",
   "metadata": {},
   "outputs": [
    {
     "data": {
      "text/html": [
       "<div>\n",
       "<style scoped>\n",
       "    .dataframe tbody tr th:only-of-type {\n",
       "        vertical-align: middle;\n",
       "    }\n",
       "\n",
       "    .dataframe tbody tr th {\n",
       "        vertical-align: top;\n",
       "    }\n",
       "\n",
       "    .dataframe thead th {\n",
       "        text-align: right;\n",
       "    }\n",
       "</style>\n",
       "<table border=\"1\" class=\"dataframe\">\n",
       "  <thead>\n",
       "    <tr style=\"text-align: right;\">\n",
       "      <th></th>\n",
       "      <th>size</th>\n",
       "      <th>mean</th>\n",
       "    </tr>\n",
       "    <tr>\n",
       "      <th>PRE_CRASH</th>\n",
       "      <th></th>\n",
       "      <th></th>\n",
       "    </tr>\n",
       "  </thead>\n",
       "  <tbody>\n",
       "    <tr>\n",
       "      <th>Avoiding Object in Roadway</th>\n",
       "      <td>579</td>\n",
       "      <td>0.151986</td>\n",
       "    </tr>\n",
       "    <tr>\n",
       "      <th>Backing</th>\n",
       "      <td>13366</td>\n",
       "      <td>0.096962</td>\n",
       "    </tr>\n",
       "    <tr>\n",
       "      <th>Changing Lanes</th>\n",
       "      <td>18482</td>\n",
       "      <td>0.061682</td>\n",
       "    </tr>\n",
       "    <tr>\n",
       "      <th>Entering Parked Position</th>\n",
       "      <td>6866</td>\n",
       "      <td>0.063647</td>\n",
       "    </tr>\n",
       "    <tr>\n",
       "      <th>Going Straight Ahead</th>\n",
       "      <td>174636</td>\n",
       "      <td>0.170761</td>\n",
       "    </tr>\n",
       "    <tr>\n",
       "      <th>Making Left Turn</th>\n",
       "      <td>24732</td>\n",
       "      <td>0.270540</td>\n",
       "    </tr>\n",
       "    <tr>\n",
       "      <th>Making Left Turn on Red</th>\n",
       "      <td>182</td>\n",
       "      <td>0.269231</td>\n",
       "    </tr>\n",
       "    <tr>\n",
       "      <th>Making Right Turn</th>\n",
       "      <td>28276</td>\n",
       "      <td>0.104718</td>\n",
       "    </tr>\n",
       "    <tr>\n",
       "      <th>Making Right Turn on Red</th>\n",
       "      <td>150</td>\n",
       "      <td>0.146667</td>\n",
       "    </tr>\n",
       "    <tr>\n",
       "      <th>Making U Turn</th>\n",
       "      <td>2692</td>\n",
       "      <td>0.251486</td>\n",
       "    </tr>\n",
       "    <tr>\n",
       "      <th>Merging</th>\n",
       "      <td>7984</td>\n",
       "      <td>0.048848</td>\n",
       "    </tr>\n",
       "    <tr>\n",
       "      <th>Other*</th>\n",
       "      <td>4292</td>\n",
       "      <td>0.144455</td>\n",
       "    </tr>\n",
       "    <tr>\n",
       "      <th>Parked</th>\n",
       "      <td>56212</td>\n",
       "      <td>0.071622</td>\n",
       "    </tr>\n",
       "    <tr>\n",
       "      <th>Passing</th>\n",
       "      <td>6199</td>\n",
       "      <td>0.068559</td>\n",
       "    </tr>\n",
       "    <tr>\n",
       "      <th>Police Pursuit</th>\n",
       "      <td>76</td>\n",
       "      <td>0.236842</td>\n",
       "    </tr>\n",
       "    <tr>\n",
       "      <th>Slowing or Stopping</th>\n",
       "      <td>8027</td>\n",
       "      <td>0.160957</td>\n",
       "    </tr>\n",
       "    <tr>\n",
       "      <th>Starting from Parking</th>\n",
       "      <td>8153</td>\n",
       "      <td>0.077517</td>\n",
       "    </tr>\n",
       "    <tr>\n",
       "      <th>Starting in Traffic</th>\n",
       "      <td>1712</td>\n",
       "      <td>0.144276</td>\n",
       "    </tr>\n",
       "    <tr>\n",
       "      <th>Stopped in Traffic</th>\n",
       "      <td>17709</td>\n",
       "      <td>0.149641</td>\n",
       "    </tr>\n",
       "  </tbody>\n",
       "</table>\n",
       "</div>"
      ],
      "text/plain": [
       "                              size      mean\n",
       "PRE_CRASH                                   \n",
       "Avoiding Object in Roadway     579  0.151986\n",
       "Backing                      13366  0.096962\n",
       "Changing Lanes               18482  0.061682\n",
       "Entering Parked Position      6866  0.063647\n",
       "Going Straight Ahead        174636  0.170761\n",
       "Making Left Turn             24732  0.270540\n",
       "Making Left Turn on Red        182  0.269231\n",
       "Making Right Turn            28276  0.104718\n",
       "Making Right Turn on Red       150  0.146667\n",
       "Making U Turn                 2692  0.251486\n",
       "Merging                       7984  0.048848\n",
       "Other*                        4292  0.144455\n",
       "Parked                       56212  0.071622\n",
       "Passing                       6199  0.068559\n",
       "Police Pursuit                  76  0.236842\n",
       "Slowing or Stopping           8027  0.160957\n",
       "Starting from Parking         8153  0.077517\n",
       "Starting in Traffic           1712  0.144276\n",
       "Stopped in Traffic           17709  0.149641"
      ]
     },
     "execution_count": 36,
     "metadata": {},
     "output_type": "execute_result"
    }
   ],
   "source": [
    "df.groupby('PRE_CRASH')['CASUALTY'].agg(['size', 'mean'])"
   ]
  },
  {
   "cell_type": "code",
   "execution_count": 37,
   "id": "9b76cebd",
   "metadata": {},
   "outputs": [
    {
     "data": {
      "text/html": [
       "<div>\n",
       "<style scoped>\n",
       "    .dataframe tbody tr th:only-of-type {\n",
       "        vertical-align: middle;\n",
       "    }\n",
       "\n",
       "    .dataframe tbody tr th {\n",
       "        vertical-align: top;\n",
       "    }\n",
       "\n",
       "    .dataframe thead th {\n",
       "        text-align: right;\n",
       "    }\n",
       "</style>\n",
       "<table border=\"1\" class=\"dataframe\">\n",
       "  <thead>\n",
       "    <tr style=\"text-align: right;\">\n",
       "      <th></th>\n",
       "      <th>size</th>\n",
       "      <th>mean</th>\n",
       "    </tr>\n",
       "    <tr>\n",
       "      <th>VEHICLE_DAMAGE</th>\n",
       "      <th></th>\n",
       "      <th></th>\n",
       "    </tr>\n",
       "  </thead>\n",
       "  <tbody>\n",
       "    <tr>\n",
       "      <th>Center Back End</th>\n",
       "      <td>14616</td>\n",
       "      <td>0.218117</td>\n",
       "    </tr>\n",
       "    <tr>\n",
       "      <th>Center Front End</th>\n",
       "      <td>21221</td>\n",
       "      <td>0.309505</td>\n",
       "    </tr>\n",
       "    <tr>\n",
       "      <th>Demolished</th>\n",
       "      <td>107</td>\n",
       "      <td>0.551402</td>\n",
       "    </tr>\n",
       "    <tr>\n",
       "      <th>Left Front Bumper</th>\n",
       "      <td>22897</td>\n",
       "      <td>0.124820</td>\n",
       "    </tr>\n",
       "    <tr>\n",
       "      <th>Left Front Quarter Panel</th>\n",
       "      <td>18330</td>\n",
       "      <td>0.091162</td>\n",
       "    </tr>\n",
       "    <tr>\n",
       "      <th>Left Rear Bumper</th>\n",
       "      <td>10786</td>\n",
       "      <td>0.083256</td>\n",
       "    </tr>\n",
       "    <tr>\n",
       "      <th>Left Rear Quarter Panel</th>\n",
       "      <td>14347</td>\n",
       "      <td>0.058967</td>\n",
       "    </tr>\n",
       "    <tr>\n",
       "      <th>Left Side Doors</th>\n",
       "      <td>14058</td>\n",
       "      <td>0.110115</td>\n",
       "    </tr>\n",
       "    <tr>\n",
       "      <th>No Damage</th>\n",
       "      <td>33521</td>\n",
       "      <td>0.302706</td>\n",
       "    </tr>\n",
       "    <tr>\n",
       "      <th>Other</th>\n",
       "      <td>6046</td>\n",
       "      <td>0.213530</td>\n",
       "    </tr>\n",
       "    <tr>\n",
       "      <th>Overturned</th>\n",
       "      <td>74</td>\n",
       "      <td>0.554054</td>\n",
       "    </tr>\n",
       "    <tr>\n",
       "      <th>Right Front Bumper</th>\n",
       "      <td>21767</td>\n",
       "      <td>0.113566</td>\n",
       "    </tr>\n",
       "    <tr>\n",
       "      <th>Right Front Quarter Panel</th>\n",
       "      <td>18901</td>\n",
       "      <td>0.087456</td>\n",
       "    </tr>\n",
       "    <tr>\n",
       "      <th>Right Rear Bumper</th>\n",
       "      <td>7594</td>\n",
       "      <td>0.096919</td>\n",
       "    </tr>\n",
       "    <tr>\n",
       "      <th>Right Rear Quarter Panel</th>\n",
       "      <td>10809</td>\n",
       "      <td>0.068091</td>\n",
       "    </tr>\n",
       "    <tr>\n",
       "      <th>Right Side Doors</th>\n",
       "      <td>13444</td>\n",
       "      <td>0.107037</td>\n",
       "    </tr>\n",
       "    <tr>\n",
       "      <th>Roof</th>\n",
       "      <td>441</td>\n",
       "      <td>0.113379</td>\n",
       "    </tr>\n",
       "    <tr>\n",
       "      <th>Trailer</th>\n",
       "      <td>169</td>\n",
       "      <td>0.106509</td>\n",
       "    </tr>\n",
       "    <tr>\n",
       "      <th>Undercarriage</th>\n",
       "      <td>197</td>\n",
       "      <td>0.131980</td>\n",
       "    </tr>\n",
       "  </tbody>\n",
       "</table>\n",
       "</div>"
      ],
      "text/plain": [
       "                            size      mean\n",
       "VEHICLE_DAMAGE                            \n",
       "Center Back End            14616  0.218117\n",
       "Center Front End           21221  0.309505\n",
       "Demolished                   107  0.551402\n",
       "Left Front Bumper          22897  0.124820\n",
       "Left Front Quarter Panel   18330  0.091162\n",
       "Left Rear Bumper           10786  0.083256\n",
       "Left Rear Quarter Panel    14347  0.058967\n",
       "Left Side Doors            14058  0.110115\n",
       "No Damage                  33521  0.302706\n",
       "Other                       6046  0.213530\n",
       "Overturned                    74  0.554054\n",
       "Right Front Bumper         21767  0.113566\n",
       "Right Front Quarter Panel  18901  0.087456\n",
       "Right Rear Bumper           7594  0.096919\n",
       "Right Rear Quarter Panel   10809  0.068091\n",
       "Right Side Doors           13444  0.107037\n",
       "Roof                         441  0.113379\n",
       "Trailer                      169  0.106509\n",
       "Undercarriage                197  0.131980"
      ]
     },
     "execution_count": 37,
     "metadata": {},
     "output_type": "execute_result"
    }
   ],
   "source": [
    "df.groupby('VEHICLE_DAMAGE')['CASUALTY'].agg(['size', 'mean']).sort_index()"
   ]
  },
  {
   "cell_type": "code",
   "execution_count": 38,
   "id": "220cf908",
   "metadata": {},
   "outputs": [
    {
     "data": {
      "text/html": [
       "<div>\n",
       "<style scoped>\n",
       "    .dataframe tbody tr th:only-of-type {\n",
       "        vertical-align: middle;\n",
       "    }\n",
       "\n",
       "    .dataframe tbody tr th {\n",
       "        vertical-align: top;\n",
       "    }\n",
       "\n",
       "    .dataframe thead th {\n",
       "        text-align: right;\n",
       "    }\n",
       "</style>\n",
       "<table border=\"1\" class=\"dataframe\">\n",
       "  <thead>\n",
       "    <tr style=\"text-align: right;\">\n",
       "      <th></th>\n",
       "      <th>size</th>\n",
       "      <th>mean</th>\n",
       "    </tr>\n",
       "    <tr>\n",
       "      <th>PUBLIC_PROPERTY_DAMAGE</th>\n",
       "      <th></th>\n",
       "      <th></th>\n",
       "    </tr>\n",
       "  </thead>\n",
       "  <tbody>\n",
       "    <tr>\n",
       "      <th>N</th>\n",
       "      <td>215426</td>\n",
       "      <td>0.156694</td>\n",
       "    </tr>\n",
       "    <tr>\n",
       "      <th>Unspecified</th>\n",
       "      <td>25217</td>\n",
       "      <td>0.146964</td>\n",
       "    </tr>\n",
       "    <tr>\n",
       "      <th>Y</th>\n",
       "      <td>765</td>\n",
       "      <td>0.245752</td>\n",
       "    </tr>\n",
       "  </tbody>\n",
       "</table>\n",
       "</div>"
      ],
      "text/plain": [
       "                          size      mean\n",
       "PUBLIC_PROPERTY_DAMAGE                  \n",
       "N                       215426  0.156694\n",
       "Unspecified              25217  0.146964\n",
       "Y                          765  0.245752"
      ]
     },
     "execution_count": 38,
     "metadata": {},
     "output_type": "execute_result"
    }
   ],
   "source": [
    "df.groupby('PUBLIC_PROPERTY_DAMAGE')['CASUALTY'].agg(['size', 'mean'])"
   ]
  },
  {
   "cell_type": "code",
   "execution_count": 39,
   "id": "6a60c372",
   "metadata": {},
   "outputs": [
    {
     "data": {
      "text/html": [
       "<div>\n",
       "<style scoped>\n",
       "    .dataframe tbody tr th:only-of-type {\n",
       "        vertical-align: middle;\n",
       "    }\n",
       "\n",
       "    .dataframe tbody tr th {\n",
       "        vertical-align: top;\n",
       "    }\n",
       "\n",
       "    .dataframe thead th {\n",
       "        text-align: right;\n",
       "    }\n",
       "</style>\n",
       "<table border=\"1\" class=\"dataframe\">\n",
       "  <thead>\n",
       "    <tr style=\"text-align: right;\">\n",
       "      <th></th>\n",
       "      <th>size</th>\n",
       "      <th>mean</th>\n",
       "    </tr>\n",
       "    <tr>\n",
       "      <th>POINT_OF_IMPACT</th>\n",
       "      <th></th>\n",
       "      <th></th>\n",
       "    </tr>\n",
       "  </thead>\n",
       "  <tbody>\n",
       "    <tr>\n",
       "      <th>Center Back End</th>\n",
       "      <td>18763</td>\n",
       "      <td>0.222619</td>\n",
       "    </tr>\n",
       "    <tr>\n",
       "      <th>Center Front End</th>\n",
       "      <td>26719</td>\n",
       "      <td>0.355665</td>\n",
       "    </tr>\n",
       "    <tr>\n",
       "      <th>Demolished</th>\n",
       "      <td>55</td>\n",
       "      <td>0.309091</td>\n",
       "    </tr>\n",
       "    <tr>\n",
       "      <th>Left Front Bumper</th>\n",
       "      <td>27902</td>\n",
       "      <td>0.155043</td>\n",
       "    </tr>\n",
       "    <tr>\n",
       "      <th>Left Front Quarter Panel</th>\n",
       "      <td>19606</td>\n",
       "      <td>0.107977</td>\n",
       "    </tr>\n",
       "    <tr>\n",
       "      <th>Left Rear Bumper</th>\n",
       "      <td>11829</td>\n",
       "      <td>0.081664</td>\n",
       "    </tr>\n",
       "    <tr>\n",
       "      <th>Left Rear Quarter Panel</th>\n",
       "      <td>15297</td>\n",
       "      <td>0.063738</td>\n",
       "    </tr>\n",
       "    <tr>\n",
       "      <th>Left Side Doors</th>\n",
       "      <td>14708</td>\n",
       "      <td>0.138020</td>\n",
       "    </tr>\n",
       "    <tr>\n",
       "      <th>No Damage</th>\n",
       "      <td>7575</td>\n",
       "      <td>0.259538</td>\n",
       "    </tr>\n",
       "    <tr>\n",
       "      <th>Other</th>\n",
       "      <td>4815</td>\n",
       "      <td>0.248390</td>\n",
       "    </tr>\n",
       "    <tr>\n",
       "      <th>Overturned</th>\n",
       "      <td>45</td>\n",
       "      <td>0.400000</td>\n",
       "    </tr>\n",
       "    <tr>\n",
       "      <th>Right Front Bumper</th>\n",
       "      <td>26626</td>\n",
       "      <td>0.132014</td>\n",
       "    </tr>\n",
       "    <tr>\n",
       "      <th>Right Front Quarter Panel</th>\n",
       "      <td>21643</td>\n",
       "      <td>0.097029</td>\n",
       "    </tr>\n",
       "    <tr>\n",
       "      <th>Right Rear Bumper</th>\n",
       "      <td>8314</td>\n",
       "      <td>0.098268</td>\n",
       "    </tr>\n",
       "    <tr>\n",
       "      <th>Right Rear Quarter Panel</th>\n",
       "      <td>11990</td>\n",
       "      <td>0.075813</td>\n",
       "    </tr>\n",
       "    <tr>\n",
       "      <th>Right Side Doors</th>\n",
       "      <td>14089</td>\n",
       "      <td>0.132799</td>\n",
       "    </tr>\n",
       "    <tr>\n",
       "      <th>Roof</th>\n",
       "      <td>472</td>\n",
       "      <td>0.076271</td>\n",
       "    </tr>\n",
       "    <tr>\n",
       "      <th>Trailer</th>\n",
       "      <td>296</td>\n",
       "      <td>0.074324</td>\n",
       "    </tr>\n",
       "    <tr>\n",
       "      <th>Undercarriage</th>\n",
       "      <td>183</td>\n",
       "      <td>0.174863</td>\n",
       "    </tr>\n",
       "  </tbody>\n",
       "</table>\n",
       "</div>"
      ],
      "text/plain": [
       "                            size      mean\n",
       "POINT_OF_IMPACT                           \n",
       "Center Back End            18763  0.222619\n",
       "Center Front End           26719  0.355665\n",
       "Demolished                    55  0.309091\n",
       "Left Front Bumper          27902  0.155043\n",
       "Left Front Quarter Panel   19606  0.107977\n",
       "Left Rear Bumper           11829  0.081664\n",
       "Left Rear Quarter Panel    15297  0.063738\n",
       "Left Side Doors            14708  0.138020\n",
       "No Damage                   7575  0.259538\n",
       "Other                       4815  0.248390\n",
       "Overturned                    45  0.400000\n",
       "Right Front Bumper         26626  0.132014\n",
       "Right Front Quarter Panel  21643  0.097029\n",
       "Right Rear Bumper           8314  0.098268\n",
       "Right Rear Quarter Panel   11990  0.075813\n",
       "Right Side Doors           14089  0.132799\n",
       "Roof                         472  0.076271\n",
       "Trailer                      296  0.074324\n",
       "Undercarriage                183  0.174863"
      ]
     },
     "execution_count": 39,
     "metadata": {},
     "output_type": "execute_result"
    }
   ],
   "source": [
    "df.groupby('POINT_OF_IMPACT')['CASUALTY'].agg(['size', 'mean'])"
   ]
  },
  {
   "cell_type": "code",
   "execution_count": 40,
   "id": "5594b546",
   "metadata": {},
   "outputs": [
    {
     "data": {
      "text/html": [
       "<div>\n",
       "<style scoped>\n",
       "    .dataframe tbody tr th:only-of-type {\n",
       "        vertical-align: middle;\n",
       "    }\n",
       "\n",
       "    .dataframe tbody tr th {\n",
       "        vertical-align: top;\n",
       "    }\n",
       "\n",
       "    .dataframe thead th {\n",
       "        text-align: right;\n",
       "    }\n",
       "</style>\n",
       "<table border=\"1\" class=\"dataframe\">\n",
       "  <thead>\n",
       "    <tr style=\"text-align: right;\">\n",
       "      <th></th>\n",
       "      <th>size</th>\n",
       "      <th>mean</th>\n",
       "    </tr>\n",
       "    <tr>\n",
       "      <th>VEHICLE_TYPE_CODE</th>\n",
       "      <th></th>\n",
       "      <th></th>\n",
       "    </tr>\n",
       "  </thead>\n",
       "  <tbody>\n",
       "    <tr>\n",
       "      <th>e-bike</th>\n",
       "      <td>283</td>\n",
       "      <td>0.844523</td>\n",
       "    </tr>\n",
       "    <tr>\n",
       "      <th>e-scooter</th>\n",
       "      <td>237</td>\n",
       "      <td>0.797468</td>\n",
       "    </tr>\n",
       "    <tr>\n",
       "      <th>bike</th>\n",
       "      <td>4205</td>\n",
       "      <td>0.749584</td>\n",
       "    </tr>\n",
       "    <tr>\n",
       "      <th>bicycle</th>\n",
       "      <td>354</td>\n",
       "      <td>0.658192</td>\n",
       "    </tr>\n",
       "    <tr>\n",
       "      <th>moped</th>\n",
       "      <td>233</td>\n",
       "      <td>0.605150</td>\n",
       "    </tr>\n",
       "    <tr>\n",
       "      <th>scooter</th>\n",
       "      <td>157</td>\n",
       "      <td>0.503185</td>\n",
       "    </tr>\n",
       "    <tr>\n",
       "      <th>motorscooter</th>\n",
       "      <td>158</td>\n",
       "      <td>0.481013</td>\n",
       "    </tr>\n",
       "    <tr>\n",
       "      <th>motorcycle</th>\n",
       "      <td>3474</td>\n",
       "      <td>0.301670</td>\n",
       "    </tr>\n",
       "    <tr>\n",
       "      <th>unknown</th>\n",
       "      <td>5543</td>\n",
       "      <td>0.257442</td>\n",
       "    </tr>\n",
       "    <tr>\n",
       "      <th>taxi</th>\n",
       "      <td>76222</td>\n",
       "      <td>0.165451</td>\n",
       "    </tr>\n",
       "    <tr>\n",
       "      <th>sedan</th>\n",
       "      <td>89417</td>\n",
       "      <td>0.147187</td>\n",
       "    </tr>\n",
       "    <tr>\n",
       "      <th>livery vehicle</th>\n",
       "      <td>8643</td>\n",
       "      <td>0.145436</td>\n",
       "    </tr>\n",
       "    <tr>\n",
       "      <th>station wagon/sport utility vehicle</th>\n",
       "      <td>66378</td>\n",
       "      <td>0.143828</td>\n",
       "    </tr>\n",
       "    <tr>\n",
       "      <th>convertible</th>\n",
       "      <td>794</td>\n",
       "      <td>0.137280</td>\n",
       "    </tr>\n",
       "    <tr>\n",
       "      <th>concrete mixer</th>\n",
       "      <td>112</td>\n",
       "      <td>0.125000</td>\n",
       "    </tr>\n",
       "    <tr>\n",
       "      <th>4 dr sedan</th>\n",
       "      <td>7689</td>\n",
       "      <td>0.124594</td>\n",
       "    </tr>\n",
       "    <tr>\n",
       "      <th>tanker</th>\n",
       "      <td>130</td>\n",
       "      <td>0.123077</td>\n",
       "    </tr>\n",
       "    <tr>\n",
       "      <th>sport utility / station wagon</th>\n",
       "      <td>56091</td>\n",
       "      <td>0.113494</td>\n",
       "    </tr>\n",
       "    <tr>\n",
       "      <th>passenger vehicle</th>\n",
       "      <td>120752</td>\n",
       "      <td>0.112420</td>\n",
       "    </tr>\n",
       "    <tr>\n",
       "      <th>dump</th>\n",
       "      <td>974</td>\n",
       "      <td>0.110883</td>\n",
       "    </tr>\n",
       "    <tr>\n",
       "      <th>pk</th>\n",
       "      <td>740</td>\n",
       "      <td>0.106757</td>\n",
       "    </tr>\n",
       "    <tr>\n",
       "      <th>tow truck / wrecker</th>\n",
       "      <td>296</td>\n",
       "      <td>0.104730</td>\n",
       "    </tr>\n",
       "    <tr>\n",
       "      <th>bus</th>\n",
       "      <td>15513</td>\n",
       "      <td>0.099981</td>\n",
       "    </tr>\n",
       "    <tr>\n",
       "      <th>garbage or refuse</th>\n",
       "      <td>716</td>\n",
       "      <td>0.096369</td>\n",
       "    </tr>\n",
       "    <tr>\n",
       "      <th>van</th>\n",
       "      <td>20377</td>\n",
       "      <td>0.095647</td>\n",
       "    </tr>\n",
       "    <tr>\n",
       "      <th>other</th>\n",
       "      <td>10957</td>\n",
       "      <td>0.094551</td>\n",
       "    </tr>\n",
       "    <tr>\n",
       "      <th>chassis cab</th>\n",
       "      <td>117</td>\n",
       "      <td>0.094017</td>\n",
       "    </tr>\n",
       "    <tr>\n",
       "      <th>pick-up truck</th>\n",
       "      <td>13902</td>\n",
       "      <td>0.092361</td>\n",
       "    </tr>\n",
       "    <tr>\n",
       "      <th>ambul</th>\n",
       "      <td>174</td>\n",
       "      <td>0.091954</td>\n",
       "    </tr>\n",
       "    <tr>\n",
       "      <th>2 dr sedan</th>\n",
       "      <td>439</td>\n",
       "      <td>0.084282</td>\n",
       "    </tr>\n",
       "    <tr>\n",
       "      <th>tractor truck diesel</th>\n",
       "      <td>1251</td>\n",
       "      <td>0.083933</td>\n",
       "    </tr>\n",
       "    <tr>\n",
       "      <th>armored truck</th>\n",
       "      <td>155</td>\n",
       "      <td>0.077419</td>\n",
       "    </tr>\n",
       "    <tr>\n",
       "      <th>refrigerated van</th>\n",
       "      <td>171</td>\n",
       "      <td>0.076023</td>\n",
       "    </tr>\n",
       "    <tr>\n",
       "      <th>small com veh(4 tires)</th>\n",
       "      <td>9314</td>\n",
       "      <td>0.069787</td>\n",
       "    </tr>\n",
       "    <tr>\n",
       "      <th>ambulance</th>\n",
       "      <td>2106</td>\n",
       "      <td>0.068851</td>\n",
       "    </tr>\n",
       "    <tr>\n",
       "      <th>beverage truck</th>\n",
       "      <td>102</td>\n",
       "      <td>0.068627</td>\n",
       "    </tr>\n",
       "    <tr>\n",
       "      <th>fire truck</th>\n",
       "      <td>416</td>\n",
       "      <td>0.064904</td>\n",
       "    </tr>\n",
       "    <tr>\n",
       "      <th>box truck</th>\n",
       "      <td>9688</td>\n",
       "      <td>0.062448</td>\n",
       "    </tr>\n",
       "    <tr>\n",
       "      <th>tractor truck gasoline</th>\n",
       "      <td>257</td>\n",
       "      <td>0.062257</td>\n",
       "    </tr>\n",
       "    <tr>\n",
       "      <th>flat bed</th>\n",
       "      <td>639</td>\n",
       "      <td>0.059468</td>\n",
       "    </tr>\n",
       "    <tr>\n",
       "      <th>large com veh(6 or more tires)</th>\n",
       "      <td>7116</td>\n",
       "      <td>0.056914</td>\n",
       "    </tr>\n",
       "    <tr>\n",
       "      <th>carry all</th>\n",
       "      <td>489</td>\n",
       "      <td>0.047035</td>\n",
       "    </tr>\n",
       "    <tr>\n",
       "      <th>flat rack</th>\n",
       "      <td>119</td>\n",
       "      <td>0.042017</td>\n",
       "    </tr>\n",
       "  </tbody>\n",
       "</table>\n",
       "</div>"
      ],
      "text/plain": [
       "                                       size      mean\n",
       "VEHICLE_TYPE_CODE                                    \n",
       "e-bike                                  283  0.844523\n",
       "e-scooter                               237  0.797468\n",
       "bike                                   4205  0.749584\n",
       "bicycle                                 354  0.658192\n",
       "moped                                   233  0.605150\n",
       "scooter                                 157  0.503185\n",
       "motorscooter                            158  0.481013\n",
       "motorcycle                             3474  0.301670\n",
       "unknown                                5543  0.257442\n",
       "taxi                                  76222  0.165451\n",
       "sedan                                 89417  0.147187\n",
       "livery vehicle                         8643  0.145436\n",
       "station wagon/sport utility vehicle   66378  0.143828\n",
       "convertible                             794  0.137280\n",
       "concrete mixer                          112  0.125000\n",
       "4 dr sedan                             7689  0.124594\n",
       "tanker                                  130  0.123077\n",
       "sport utility / station wagon         56091  0.113494\n",
       "passenger vehicle                    120752  0.112420\n",
       "dump                                    974  0.110883\n",
       "pk                                      740  0.106757\n",
       "tow truck / wrecker                     296  0.104730\n",
       "bus                                   15513  0.099981\n",
       "garbage or refuse                       716  0.096369\n",
       "van                                   20377  0.095647\n",
       "other                                 10957  0.094551\n",
       "chassis cab                             117  0.094017\n",
       "pick-up truck                         13902  0.092361\n",
       "ambul                                   174  0.091954\n",
       "2 dr sedan                              439  0.084282\n",
       "tractor truck diesel                   1251  0.083933\n",
       "armored truck                           155  0.077419\n",
       "refrigerated van                        171  0.076023\n",
       "small com veh(4 tires)                 9314  0.069787\n",
       "ambulance                              2106  0.068851\n",
       "beverage truck                          102  0.068627\n",
       "fire truck                              416  0.064904\n",
       "box truck                              9688  0.062448\n",
       "tractor truck gasoline                  257  0.062257\n",
       "flat bed                                639  0.059468\n",
       "large com veh(6 or more tires)         7116  0.056914\n",
       "carry all                               489  0.047035\n",
       "flat rack                               119  0.042017"
      ]
     },
     "execution_count": 40,
     "metadata": {},
     "output_type": "execute_result"
    }
   ],
   "source": [
    "df['VEHICLE_TYPE_CODE'] = df['VEHICLE_TYPE_CODE'].str.lower()\n",
    "df.groupby('VEHICLE_TYPE_CODE')['CASUALTY'].agg(['size', 'mean']).sort_values('mean', ascending=False).query('size > 100')"
   ]
  },
  {
   "cell_type": "code",
   "execution_count": 41,
   "id": "442ca2ff",
   "metadata": {},
   "outputs": [
    {
     "data": {
      "text/plain": [
       "Unspecified                         0.326438\n",
       "Driver Inattention/Distraction      0.203914\n",
       "Other Vehicular                     0.060984\n",
       "Failure to Yield Right-of-Way       0.041353\n",
       "Turning Improperly                  0.038357\n",
       "                                      ...   \n",
       "Using On Board Navigation Device    0.000022\n",
       "Texting                             0.000018\n",
       "80                                  0.000009\n",
       "1                                   0.000004\n",
       "Listening/Using Headphones          0.000004\n",
       "Name: CONTRIBUTING_FACTOR, Length: 62, dtype: float64"
      ]
     },
     "execution_count": 41,
     "metadata": {},
     "output_type": "execute_result"
    }
   ],
   "source": [
    "#df.groupby('CONTRIBUTING_FACTOR')['CASUALTY'].agg(['size', 'mean'])\n",
    "df['CONTRIBUTING_FACTOR'].value_counts(normalize=True, dropna=False)"
   ]
  },
  {
   "cell_type": "code",
   "execution_count": 42,
   "id": "a04389fb",
   "metadata": {},
   "outputs": [],
   "source": [
    "to_drop = [\n",
    "    'STATE_REGISTRATION', 'DRIVER_LICENSE_JURISDICTION', 'DRIVER_LICENSE_STATUS', \n",
    "    'VEHICLE_DAMAGE', 'PUBLIC_PROPERTY_DAMAGE', \n",
    "    'VEHICLE_TYPE', 'VEHICLE_MAKE', 'VEHICLE_YEAR',\n",
    "    'TRAVEL_DIRECTION', 'VEHICLE_OCCUPANTS', 'DRIVER_SEX',\n",
    "    'CONTRIBUTING_FACTOR', 'POINT_OF_IMPACT'\n",
    "]\n",
    "\n",
    "df['FRONT_OR_BACK_ENDED'] = df['POINT_OF_IMPACT'].isin(['Overturned', 'Center Front End', 'Demolished', 'Center Back End']).astype(int)\n",
    "\n",
    "df.drop(columns=to_drop, inplace=True)"
   ]
  },
  {
   "cell_type": "code",
   "execution_count": 43,
   "id": "fbc7c907",
   "metadata": {},
   "outputs": [
    {
     "data": {
      "text/plain": [
       "Index(['CRASH_DATE', 'CRASH_TIME', 'LATITUDE', 'LONGITUDE', 'COLLISION_ID',\n",
       "       'PRE_CRASH', 'VEHICLE_TYPE_CODE', 'CASUALTY', 'FRONT_OR_BACK_ENDED'],\n",
       "      dtype='object')"
      ]
     },
     "execution_count": 43,
     "metadata": {},
     "output_type": "execute_result"
    }
   ],
   "source": [
    "df.columns"
   ]
  },
  {
   "cell_type": "code",
   "execution_count": 44,
   "id": "e336d2ac",
   "metadata": {},
   "outputs": [
    {
     "data": {
      "text/html": [
       "<div>\n",
       "<style scoped>\n",
       "    .dataframe tbody tr th:only-of-type {\n",
       "        vertical-align: middle;\n",
       "    }\n",
       "\n",
       "    .dataframe tbody tr th {\n",
       "        vertical-align: top;\n",
       "    }\n",
       "\n",
       "    .dataframe thead th {\n",
       "        text-align: right;\n",
       "    }\n",
       "</style>\n",
       "<table border=\"1\" class=\"dataframe\">\n",
       "  <thead>\n",
       "    <tr style=\"text-align: right;\">\n",
       "      <th></th>\n",
       "      <th>size</th>\n",
       "      <th>mean</th>\n",
       "    </tr>\n",
       "    <tr>\n",
       "      <th>PRE_CRASH</th>\n",
       "      <th></th>\n",
       "      <th></th>\n",
       "    </tr>\n",
       "  </thead>\n",
       "  <tbody>\n",
       "    <tr>\n",
       "      <th>Merging</th>\n",
       "      <td>7984</td>\n",
       "      <td>0.048848</td>\n",
       "    </tr>\n",
       "    <tr>\n",
       "      <th>Changing Lanes</th>\n",
       "      <td>18482</td>\n",
       "      <td>0.061682</td>\n",
       "    </tr>\n",
       "    <tr>\n",
       "      <th>Entering Parked Position</th>\n",
       "      <td>6866</td>\n",
       "      <td>0.063647</td>\n",
       "    </tr>\n",
       "    <tr>\n",
       "      <th>Passing</th>\n",
       "      <td>6199</td>\n",
       "      <td>0.068559</td>\n",
       "    </tr>\n",
       "    <tr>\n",
       "      <th>Parked</th>\n",
       "      <td>56212</td>\n",
       "      <td>0.071622</td>\n",
       "    </tr>\n",
       "    <tr>\n",
       "      <th>Starting from Parking</th>\n",
       "      <td>8153</td>\n",
       "      <td>0.077517</td>\n",
       "    </tr>\n",
       "    <tr>\n",
       "      <th>Backing</th>\n",
       "      <td>13366</td>\n",
       "      <td>0.096962</td>\n",
       "    </tr>\n",
       "    <tr>\n",
       "      <th>Making Right Turn</th>\n",
       "      <td>28276</td>\n",
       "      <td>0.104718</td>\n",
       "    </tr>\n",
       "    <tr>\n",
       "      <th>Starting in Traffic</th>\n",
       "      <td>1712</td>\n",
       "      <td>0.144276</td>\n",
       "    </tr>\n",
       "    <tr>\n",
       "      <th>Other*</th>\n",
       "      <td>4292</td>\n",
       "      <td>0.144455</td>\n",
       "    </tr>\n",
       "    <tr>\n",
       "      <th>Making Right Turn on Red</th>\n",
       "      <td>150</td>\n",
       "      <td>0.146667</td>\n",
       "    </tr>\n",
       "    <tr>\n",
       "      <th>Stopped in Traffic</th>\n",
       "      <td>17709</td>\n",
       "      <td>0.149641</td>\n",
       "    </tr>\n",
       "    <tr>\n",
       "      <th>Avoiding Object in Roadway</th>\n",
       "      <td>579</td>\n",
       "      <td>0.151986</td>\n",
       "    </tr>\n",
       "    <tr>\n",
       "      <th>Slowing or Stopping</th>\n",
       "      <td>8027</td>\n",
       "      <td>0.160957</td>\n",
       "    </tr>\n",
       "    <tr>\n",
       "      <th>Going Straight Ahead</th>\n",
       "      <td>174636</td>\n",
       "      <td>0.170761</td>\n",
       "    </tr>\n",
       "    <tr>\n",
       "      <th>Police Pursuit</th>\n",
       "      <td>76</td>\n",
       "      <td>0.236842</td>\n",
       "    </tr>\n",
       "    <tr>\n",
       "      <th>Making U Turn</th>\n",
       "      <td>2692</td>\n",
       "      <td>0.251486</td>\n",
       "    </tr>\n",
       "    <tr>\n",
       "      <th>Making Left Turn on Red</th>\n",
       "      <td>182</td>\n",
       "      <td>0.269231</td>\n",
       "    </tr>\n",
       "    <tr>\n",
       "      <th>Making Left Turn</th>\n",
       "      <td>24732</td>\n",
       "      <td>0.270540</td>\n",
       "    </tr>\n",
       "  </tbody>\n",
       "</table>\n",
       "</div>"
      ],
      "text/plain": [
       "                              size      mean\n",
       "PRE_CRASH                                   \n",
       "Merging                       7984  0.048848\n",
       "Changing Lanes               18482  0.061682\n",
       "Entering Parked Position      6866  0.063647\n",
       "Passing                       6199  0.068559\n",
       "Parked                       56212  0.071622\n",
       "Starting from Parking         8153  0.077517\n",
       "Backing                      13366  0.096962\n",
       "Making Right Turn            28276  0.104718\n",
       "Starting in Traffic           1712  0.144276\n",
       "Other*                        4292  0.144455\n",
       "Making Right Turn on Red       150  0.146667\n",
       "Stopped in Traffic           17709  0.149641\n",
       "Avoiding Object in Roadway     579  0.151986\n",
       "Slowing or Stopping           8027  0.160957\n",
       "Going Straight Ahead        174636  0.170761\n",
       "Police Pursuit                  76  0.236842\n",
       "Making U Turn                 2692  0.251486\n",
       "Making Left Turn on Red        182  0.269231\n",
       "Making Left Turn             24732  0.270540"
      ]
     },
     "execution_count": 44,
     "metadata": {},
     "output_type": "execute_result"
    }
   ],
   "source": [
    "df.groupby('PRE_CRASH')['CASUALTY'].agg(['size', 'mean']).sort_values('mean')"
   ]
  },
  {
   "cell_type": "markdown",
   "id": "055d9a39",
   "metadata": {},
   "source": [
    "## 8. Dummify Crash columns"
   ]
  },
  {
   "cell_type": "code",
   "execution_count": 45,
   "id": "3d18779d",
   "metadata": {},
   "outputs": [],
   "source": [
    "in_intersection = [\n",
    "    'Making Left Turn', 'Making Left Turn on Red', 'Making U Turn', 'Police Pursuit'\n",
    "]\n",
    "\n",
    "\n",
    "df['GOING_STRAIGHT_AHEAD'] = df['PRE_CRASH'].eq('Going Straight Ahead').astype(int)\n",
    "df['IN_INTERSECTION'] = df['PRE_CRASH'].isin(in_intersection).astype(int)\n",
    "df.drop(columns='PRE_CRASH', inplace=True)"
   ]
  },
  {
   "cell_type": "markdown",
   "id": "553f50c2",
   "metadata": {},
   "source": [
    "Given the previous `groupby` exercise using `'VEHICLE_TYPE_CODE'`, it's clear that riding a bike or motorcycle, truck or taxi are especially hazardous. So all values containing `'bik'`, `'cyc'`, `'scoo'`, `'moto'`, `'mop'`, `'taxi'` or `'tru'` into a are converted to 1 and all others 0."
   ]
  },
  {
   "cell_type": "code",
   "execution_count": 46,
   "id": "0e71d563",
   "metadata": {},
   "outputs": [],
   "source": [
    "def mapping(v):\n",
    "    if isinstance(v, str):\n",
    "        if 'bik' in v or 'cyc' in v or 'scoo' in v or 'moto' in v or 'mop' in v or 'taxi' in v or 'tru' in v:\n",
    "            return 1\n",
    "        else:\n",
    "            return 0\n",
    "    else:\n",
    "        return 0"
   ]
  },
  {
   "cell_type": "code",
   "execution_count": 47,
   "id": "d1eeac8d",
   "metadata": {},
   "outputs": [],
   "source": [
    "to_drop = [\n",
    "    'VEHICLE_TYPE_CODE', 'CRASH_DATE', 'CRASH_TIME'\n",
    "]\n",
    "\n",
    "df['CRASH_DATETIME'] = df['CRASH_DATE'] + ' ' + df['CRASH_TIME']\n",
    "df['TRUCK_TAXI_BIKE'] = df['VEHICLE_TYPE_CODE'].map(mapping)\n",
    "\n",
    "df.drop(columns=to_drop, inplace=True)"
   ]
  },
  {
   "cell_type": "markdown",
   "id": "0a309a4c",
   "metadata": {},
   "source": [
    "## 9. Save processed dataframe"
   ]
  },
  {
   "cell_type": "code",
   "execution_count": 48,
   "id": "e7b5f63b",
   "metadata": {},
   "outputs": [],
   "source": [
    "def aggfunc(col):\n",
    "    if col in {'LATITUDE', 'LONGITUDE', 'CRASH_DATETIME'}:\n",
    "        return 'first'\n",
    "    else:\n",
    "        return 'max'\n",
    "    \n",
    "aggfuncs = {k: aggfunc(k) for k in df.columns.drop('COLLISION_ID')}\n",
    "df = df.groupby('COLLISION_ID').agg(aggfuncs).set_index('CRASH_DATETIME')"
   ]
  },
  {
   "cell_type": "code",
   "execution_count": 49,
   "id": "17ad7c33",
   "metadata": {},
   "outputs": [
    {
     "data": {
      "text/plain": [
       "(279345, 7)"
      ]
     },
     "execution_count": 49,
     "metadata": {},
     "output_type": "execute_result"
    }
   ],
   "source": [
    "df.shape"
   ]
  },
  {
   "cell_type": "code",
   "execution_count": 50,
   "id": "42d131fc",
   "metadata": {},
   "outputs": [
    {
     "data": {
      "text/plain": [
       "LATITUDE                0\n",
       "LONGITUDE               0\n",
       "CASUALTY                0\n",
       "FRONT_OR_BACK_ENDED     0\n",
       "GOING_STRAIGHT_AHEAD    0\n",
       "IN_INTERSECTION         0\n",
       "TRUCK_TAXI_BIKE         0\n",
       "dtype: int64"
      ]
     },
     "execution_count": 50,
     "metadata": {},
     "output_type": "execute_result"
    }
   ],
   "source": [
    "df.isna().sum()"
   ]
  },
  {
   "cell_type": "code",
   "execution_count": 51,
   "id": "2ef502b9",
   "metadata": {},
   "outputs": [
    {
     "data": {
      "text/plain": [
       "LATITUDE                float64\n",
       "LONGITUDE               float64\n",
       "CASUALTY                  int32\n",
       "FRONT_OR_BACK_ENDED       int32\n",
       "GOING_STRAIGHT_AHEAD      int32\n",
       "IN_INTERSECTION           int32\n",
       "TRUCK_TAXI_BIKE           int64\n",
       "dtype: object"
      ]
     },
     "execution_count": 51,
     "metadata": {},
     "output_type": "execute_result"
    }
   ],
   "source": [
    "df.dtypes"
   ]
  },
  {
   "cell_type": "code",
   "execution_count": 52,
   "id": "f0aa41fb",
   "metadata": {},
   "outputs": [],
   "source": [
    "df.to_csv('../data/processed_data/data_0.csv')"
   ]
  },
  {
   "cell_type": "code",
   "execution_count": null,
   "id": "96ac3b51",
   "metadata": {},
   "outputs": [],
   "source": []
  }
 ],
 "metadata": {
  "kernelspec": {
   "display_name": "Python 3.9.12",
   "language": "python",
   "name": "python3"
  },
  "language_info": {
   "codemirror_mode": {
    "name": "ipython",
    "version": 3
   },
   "file_extension": ".py",
   "mimetype": "text/x-python",
   "name": "python",
   "nbconvert_exporter": "python",
   "pygments_lexer": "ipython3",
   "version": "3.9.12"
  }
 },
 "nbformat": 4,
 "nbformat_minor": 5
}
