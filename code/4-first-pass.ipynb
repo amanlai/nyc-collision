{
 "cells": [
  {
   "cell_type": "code",
   "execution_count": 1,
   "id": "fd0c0334",
   "metadata": {},
   "outputs": [],
   "source": [
    "import pandas as pd\n",
    "from sklearn.model_selection import StratifiedKFold, train_test_split, cross_val_score\n",
    "from helpers import plot_bars, cross_validation\n",
    "\n",
    "from sklearn.dummy import DummyClassifier\n",
    "from sklearn.linear_model import LogisticRegression\n",
    "from sklearn.ensemble import RandomForestClassifier\n",
    "from sklearn.tree import DecisionTreeClassifier\n",
    "from sklearn.ensemble import VotingClassifier\n",
    "\n",
    "from sklearn.metrics import f1_score"
   ]
  },
  {
   "cell_type": "code",
   "execution_count": 2,
   "id": "309e62f7",
   "metadata": {},
   "outputs": [],
   "source": [
    "df = pd.read_csv('../data/processed_data/data_1.csv')"
   ]
  },
  {
   "cell_type": "code",
   "execution_count": 3,
   "id": "af0cbe9d",
   "metadata": {},
   "outputs": [
    {
     "data": {
      "text/html": [
       "<div>\n",
       "<style scoped>\n",
       "    .dataframe tbody tr th:only-of-type {\n",
       "        vertical-align: middle;\n",
       "    }\n",
       "\n",
       "    .dataframe tbody tr th {\n",
       "        vertical-align: top;\n",
       "    }\n",
       "\n",
       "    .dataframe thead th {\n",
       "        text-align: right;\n",
       "    }\n",
       "</style>\n",
       "<table border=\"1\" class=\"dataframe\">\n",
       "  <thead>\n",
       "    <tr style=\"text-align: right;\">\n",
       "      <th></th>\n",
       "      <th>CRASH_DATETIME</th>\n",
       "      <th>CASUALTY</th>\n",
       "      <th>FRONT_OR_BACK_ENDED</th>\n",
       "      <th>GOING_STRAIGHT_AHEAD</th>\n",
       "      <th>IN_INTERSECTION</th>\n",
       "      <th>TRUCK_TAXI_BIKE</th>\n",
       "      <th>CLUSTER</th>\n",
       "    </tr>\n",
       "  </thead>\n",
       "  <tbody>\n",
       "    <tr>\n",
       "      <th>0</th>\n",
       "      <td>07/01/2012 10:40</td>\n",
       "      <td>0</td>\n",
       "      <td>0</td>\n",
       "      <td>0</td>\n",
       "      <td>0</td>\n",
       "      <td>0</td>\n",
       "      <td>45</td>\n",
       "    </tr>\n",
       "    <tr>\n",
       "      <th>1</th>\n",
       "      <td>07/01/2012 12:18</td>\n",
       "      <td>0</td>\n",
       "      <td>0</td>\n",
       "      <td>0</td>\n",
       "      <td>0</td>\n",
       "      <td>1</td>\n",
       "      <td>25</td>\n",
       "    </tr>\n",
       "    <tr>\n",
       "      <th>2</th>\n",
       "      <td>07/01/2012 18:00</td>\n",
       "      <td>0</td>\n",
       "      <td>0</td>\n",
       "      <td>0</td>\n",
       "      <td>0</td>\n",
       "      <td>0</td>\n",
       "      <td>69</td>\n",
       "    </tr>\n",
       "    <tr>\n",
       "      <th>3</th>\n",
       "      <td>07/01/2012 19:30</td>\n",
       "      <td>0</td>\n",
       "      <td>0</td>\n",
       "      <td>0</td>\n",
       "      <td>0</td>\n",
       "      <td>0</td>\n",
       "      <td>69</td>\n",
       "    </tr>\n",
       "    <tr>\n",
       "      <th>4</th>\n",
       "      <td>07/01/2012 20:00</td>\n",
       "      <td>0</td>\n",
       "      <td>0</td>\n",
       "      <td>0</td>\n",
       "      <td>0</td>\n",
       "      <td>1</td>\n",
       "      <td>58</td>\n",
       "    </tr>\n",
       "  </tbody>\n",
       "</table>\n",
       "</div>"
      ],
      "text/plain": [
       "     CRASH_DATETIME  CASUALTY  FRONT_OR_BACK_ENDED  GOING_STRAIGHT_AHEAD  \\\n",
       "0  07/01/2012 10:40         0                    0                     0   \n",
       "1  07/01/2012 12:18         0                    0                     0   \n",
       "2  07/01/2012 18:00         0                    0                     0   \n",
       "3  07/01/2012 19:30         0                    0                     0   \n",
       "4  07/01/2012 20:00         0                    0                     0   \n",
       "\n",
       "   IN_INTERSECTION  TRUCK_TAXI_BIKE  CLUSTER  \n",
       "0                0                0       45  \n",
       "1                0                1       25  \n",
       "2                0                0       69  \n",
       "3                0                0       69  \n",
       "4                0                1       58  "
      ]
     },
     "execution_count": 3,
     "metadata": {},
     "output_type": "execute_result"
    }
   ],
   "source": [
    "df.head()"
   ]
  },
  {
   "cell_type": "markdown",
   "id": "7c7a8ca6",
   "metadata": {},
   "source": [
    "# Preprocessing"
   ]
  },
  {
   "cell_type": "code",
   "execution_count": 4,
   "id": "2c766ccc",
   "metadata": {},
   "outputs": [],
   "source": [
    "X = df.drop(columns=['CRASH_DATETIME', 'CLUSTER', 'CASUALTY'])\n",
    "y = df['CASUALTY']\n",
    "\n",
    "kf = StratifiedKFold(shuffle=True, random_state=2022)"
   ]
  },
  {
   "cell_type": "markdown",
   "id": "a65ac6e1",
   "metadata": {},
   "source": [
    "# Baseline Model"
   ]
  },
  {
   "cell_type": "code",
   "execution_count": 5,
   "id": "abfc8068",
   "metadata": {},
   "outputs": [
    {
     "name": "stdout",
     "output_type": "stream",
     "text": [
      "5-Fold Cross Validation Average F1-score = 0.0\n"
     ]
    }
   ],
   "source": [
    "dummy = cross_validation(X, y, kf, DummyClassifier)\n",
    "print(\"5-Fold Cross Validation Average F1-score =\", dummy)"
   ]
  },
  {
   "cell_type": "markdown",
   "id": "13f43a3d",
   "metadata": {},
   "source": [
    "# Logistic Regression"
   ]
  },
  {
   "cell_type": "code",
   "execution_count": 6,
   "id": "17ef66c0",
   "metadata": {},
   "outputs": [
    {
     "name": "stdout",
     "output_type": "stream",
     "text": [
      "5-Fold Cross Validation Average F1-score = 0.05903362911493128\n"
     ]
    }
   ],
   "source": [
    "log = cross_validation(X, y, kf, LogisticRegression)\n",
    "print(\"5-Fold Cross Validation Average F1-score =\", log)"
   ]
  },
  {
   "cell_type": "code",
   "execution_count": 7,
   "id": "1105a1f5",
   "metadata": {},
   "outputs": [],
   "source": [
    "log = cross_val_score(LogisticRegression(), X, y, scoring='f1').mean()"
   ]
  },
  {
   "cell_type": "markdown",
   "id": "70b3a62d",
   "metadata": {},
   "source": [
    "# Random Forest"
   ]
  },
  {
   "cell_type": "code",
   "execution_count": 8,
   "id": "d1e85506",
   "metadata": {},
   "outputs": [
    {
     "name": "stdout",
     "output_type": "stream",
     "text": [
      "5-Fold Cross Validation Average F1-score = 0.05012119020099316\n"
     ]
    }
   ],
   "source": [
    "rf = cross_validation(X, y, kf, RandomForestClassifier, n_jobs=-1)\n",
    "print(\"5-Fold Cross Validation Average F1-score =\", rf)"
   ]
  },
  {
   "cell_type": "code",
   "execution_count": 9,
   "id": "5debbea0",
   "metadata": {},
   "outputs": [],
   "source": [
    "rf = cross_val_score(RandomForestClassifier(n_jobs=-1), X, y, scoring='f1').mean()"
   ]
  },
  {
   "cell_type": "markdown",
   "id": "d3e5105f",
   "metadata": {},
   "source": [
    "# Decision Tree"
   ]
  },
  {
   "cell_type": "code",
   "execution_count": 10,
   "id": "46427ec7",
   "metadata": {},
   "outputs": [
    {
     "name": "stdout",
     "output_type": "stream",
     "text": [
      "5-Fold Cross Validation Average F1-score = 0.05012119020099316\n"
     ]
    }
   ],
   "source": [
    "tree = cross_validation(X, y, kf, DecisionTreeClassifier)\n",
    "print(\"5-Fold Cross Validation Average F1-score =\", tree)"
   ]
  },
  {
   "cell_type": "code",
   "execution_count": 11,
   "id": "bec41246",
   "metadata": {},
   "outputs": [],
   "source": [
    "tree = cross_val_score(DecisionTreeClassifier(), X, y, scoring='f1').mean()"
   ]
  },
  {
   "cell_type": "markdown",
   "id": "09873426",
   "metadata": {},
   "source": [
    "# Ensemble"
   ]
  },
  {
   "cell_type": "code",
   "execution_count": 12,
   "id": "e39f1989",
   "metadata": {},
   "outputs": [
    {
     "name": "stdout",
     "output_type": "stream",
     "text": [
      "5-Fold Cross Validation Average F1-score = 0.05012119020099316\n"
     ]
    }
   ],
   "source": [
    "models = [\n",
    "    ('lr', LogisticRegression()),\n",
    "    ('rf', RandomForestClassifier(n_jobs=-1)),\n",
    "    ('tree', DecisionTreeClassifier())\n",
    "]\n",
    "\n",
    "ensemble = cross_validation(X, y, kf, VotingClassifier, estimators=models)\n",
    "print(\"5-Fold Cross Validation Average F1-score =\", ensemble)"
   ]
  },
  {
   "cell_type": "code",
   "execution_count": 13,
   "id": "8d00b9c7",
   "metadata": {},
   "outputs": [],
   "source": [
    "ensemble = cross_val_score(VotingClassifier(estimators=models, n_jobs=-1), X, y, scoring='f1').mean()"
   ]
  },
  {
   "cell_type": "markdown",
   "id": "470efd75",
   "metadata": {},
   "source": [
    "# Plot the F1 scores"
   ]
  },
  {
   "cell_type": "code",
   "execution_count": 14,
   "id": "32932bbc",
   "metadata": {},
   "outputs": [],
   "source": [
    "data_to_plot = pd.DataFrame({\n",
    "    'model': ['Baseline', 'Logistic Regression', 'Random Forest', 'Decision Tree', 'Ensemble'],\n",
    "    'Scores': [dummy, log, rf, tree, ensemble]}\n",
    ").sort_values('Scores')"
   ]
  },
  {
   "cell_type": "code",
   "execution_count": 16,
   "id": "41367cb4",
   "metadata": {},
   "outputs": [
    {
     "data": {
      "image/png": "[encoded data removed]",
      "text/plain": [
       "<Figure size 864x360 with 1 Axes>"
      ]
     },
     "metadata": {
      "needs_background": "light"
     },
     "output_type": "display_data"
    }
   ],
   "source": [
    "plot_bars(\n",
    "    x='model', y='Scores', data=data_to_plot.query('model != \"Baseline\"'), \n",
    "    to_filename='first_pass', baseline=data_to_plot.loc[data_to_plot['model'] == \"Baseline\", 'Scores'].iat[-1], \n",
    "    title='F1 Scores (First Pass)'\n",
    ")"
   ]
  },
  {
   "cell_type": "code",
   "execution_count": null,
   "id": "af52bfa1",
   "metadata": {},
   "outputs": [],
   "source": []
  }
 ],
 "metadata": {
  "kernelspec": {
   "display_name": "Python 3.9.12",
   "language": "python",
   "name": "python3"
  },
  "language_info": {
   "codemirror_mode": {
    "name": "ipython",
    "version": 3
   },
   "file_extension": ".py",
   "mimetype": "text/x-python",
   "name": "python",
   "nbconvert_exporter": "python",
   "pygments_lexer": "ipython3",
   "version": "3.9.12"
  }
 },
 "nbformat": 4,
 "nbformat_minor": 5
}
