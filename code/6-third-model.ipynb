{
 "cells": [
  {
   "cell_type": "code",
   "execution_count": 1,
   "id": "bbf465cc",
   "metadata": {},
   "outputs": [],
   "source": [
    "import pandas as pd\n",
    "from sklearn.model_selection import StratifiedKFold, train_test_split, cross_val_score\n",
    "from helpers import plot_bars, cross_validation\n",
    "\n",
    "from sklearn.dummy import DummyClassifier\n",
    "from sklearn.linear_model import LogisticRegression\n",
    "from sklearn.ensemble import RandomForestClassifier\n",
    "from sklearn.tree import DecisionTreeClassifier\n",
    "from sklearn.ensemble import VotingClassifier\n",
    "\n",
    "from sklearn.metrics import f1_score"
   ]
  },
  {
   "cell_type": "code",
   "execution_count": 2,
   "id": "1efbd76a",
   "metadata": {},
   "outputs": [],
   "source": [
    "df = pd.read_csv('../data/processed_data/data_2.csv')"
   ]
  },
  {
   "cell_type": "code",
   "execution_count": 3,
   "id": "ce6762d8",
   "metadata": {},
   "outputs": [
    {
     "data": {
      "text/html": [
       "<div>\n",
       "<style scoped>\n",
       "    .dataframe tbody tr th:only-of-type {\n",
       "        vertical-align: middle;\n",
       "    }\n",
       "\n",
       "    .dataframe tbody tr th {\n",
       "        vertical-align: top;\n",
       "    }\n",
       "\n",
       "    .dataframe thead th {\n",
       "        text-align: right;\n",
       "    }\n",
       "</style>\n",
       "<table border=\"1\" class=\"dataframe\">\n",
       "  <thead>\n",
       "    <tr style=\"text-align: right;\">\n",
       "      <th></th>\n",
       "      <th>CRASH_DATETIME</th>\n",
       "      <th>CASUALTY</th>\n",
       "      <th>FRONT_OR_BACK_ENDED</th>\n",
       "      <th>GOING_STRAIGHT_AHEAD</th>\n",
       "      <th>IN_INTERSECTION</th>\n",
       "      <th>TRUCK_TAXI_BIKE</th>\n",
       "      <th>CLUSTER</th>\n",
       "    </tr>\n",
       "  </thead>\n",
       "  <tbody>\n",
       "    <tr>\n",
       "      <th>0</th>\n",
       "      <td>07/01/2012 10:40</td>\n",
       "      <td>0</td>\n",
       "      <td>0</td>\n",
       "      <td>0</td>\n",
       "      <td>0</td>\n",
       "      <td>0</td>\n",
       "      <td>45</td>\n",
       "    </tr>\n",
       "    <tr>\n",
       "      <th>1</th>\n",
       "      <td>07/01/2012 12:18</td>\n",
       "      <td>0</td>\n",
       "      <td>0</td>\n",
       "      <td>0</td>\n",
       "      <td>0</td>\n",
       "      <td>1</td>\n",
       "      <td>25</td>\n",
       "    </tr>\n",
       "    <tr>\n",
       "      <th>2</th>\n",
       "      <td>07/01/2012 18:00</td>\n",
       "      <td>0</td>\n",
       "      <td>0</td>\n",
       "      <td>0</td>\n",
       "      <td>0</td>\n",
       "      <td>0</td>\n",
       "      <td>69</td>\n",
       "    </tr>\n",
       "    <tr>\n",
       "      <th>3</th>\n",
       "      <td>07/01/2012 19:30</td>\n",
       "      <td>0</td>\n",
       "      <td>0</td>\n",
       "      <td>0</td>\n",
       "      <td>0</td>\n",
       "      <td>0</td>\n",
       "      <td>69</td>\n",
       "    </tr>\n",
       "    <tr>\n",
       "      <th>4</th>\n",
       "      <td>07/01/2012 20:00</td>\n",
       "      <td>0</td>\n",
       "      <td>0</td>\n",
       "      <td>0</td>\n",
       "      <td>0</td>\n",
       "      <td>1</td>\n",
       "      <td>58</td>\n",
       "    </tr>\n",
       "  </tbody>\n",
       "</table>\n",
       "</div>"
      ],
      "text/plain": [
       "     CRASH_DATETIME  CASUALTY  FRONT_OR_BACK_ENDED  GOING_STRAIGHT_AHEAD  \\\n",
       "0  07/01/2012 10:40         0                    0                     0   \n",
       "1  07/01/2012 12:18         0                    0                     0   \n",
       "2  07/01/2012 18:00         0                    0                     0   \n",
       "3  07/01/2012 19:30         0                    0                     0   \n",
       "4  07/01/2012 20:00         0                    0                     0   \n",
       "\n",
       "   IN_INTERSECTION  TRUCK_TAXI_BIKE  CLUSTER  \n",
       "0                0                0       45  \n",
       "1                0                1       25  \n",
       "2                0                0       69  \n",
       "3                0                0       69  \n",
       "4                0                1       58  "
      ]
     },
     "execution_count": 3,
     "metadata": {},
     "output_type": "execute_result"
    }
   ],
   "source": [
    "df.head()"
   ]
  },
  {
   "cell_type": "markdown",
   "id": "09cb5b0a",
   "metadata": {},
   "source": [
    "# Preprocessing"
   ]
  },
  {
   "cell_type": "code",
   "execution_count": 4,
   "id": "a21e30e4",
   "metadata": {},
   "outputs": [],
   "source": [
    "df['CRASH_DATETIME'] = pd.to_datetime(df['CRASH_DATETIME'])"
   ]
  },
  {
   "cell_type": "code",
   "execution_count": 5,
   "id": "f2a7d845",
   "metadata": {},
   "outputs": [
    {
     "data": {
      "text/html": [
       "<div>\n",
       "<style scoped>\n",
       "    .dataframe tbody tr th:only-of-type {\n",
       "        vertical-align: middle;\n",
       "    }\n",
       "\n",
       "    .dataframe tbody tr th {\n",
       "        vertical-align: top;\n",
       "    }\n",
       "\n",
       "    .dataframe thead th {\n",
       "        text-align: right;\n",
       "    }\n",
       "</style>\n",
       "<table border=\"1\" class=\"dataframe\">\n",
       "  <thead>\n",
       "    <tr style=\"text-align: right;\">\n",
       "      <th></th>\n",
       "      <th>size</th>\n",
       "      <th>mean</th>\n",
       "    </tr>\n",
       "    <tr>\n",
       "      <th>CRASH_DATETIME</th>\n",
       "      <th></th>\n",
       "      <th></th>\n",
       "    </tr>\n",
       "  </thead>\n",
       "  <tbody>\n",
       "    <tr>\n",
       "      <th>4</th>\n",
       "      <td>3374</td>\n",
       "      <td>0.216064</td>\n",
       "    </tr>\n",
       "    <tr>\n",
       "      <th>5</th>\n",
       "      <td>3244</td>\n",
       "      <td>0.214858</td>\n",
       "    </tr>\n",
       "    <tr>\n",
       "      <th>3</th>\n",
       "      <td>3448</td>\n",
       "      <td>0.212297</td>\n",
       "    </tr>\n",
       "    <tr>\n",
       "      <th>6</th>\n",
       "      <td>4857</td>\n",
       "      <td>0.199918</td>\n",
       "    </tr>\n",
       "    <tr>\n",
       "      <th>21</th>\n",
       "      <td>10566</td>\n",
       "      <td>0.197804</td>\n",
       "    </tr>\n",
       "    <tr>\n",
       "      <th>2</th>\n",
       "      <td>4103</td>\n",
       "      <td>0.196198</td>\n",
       "    </tr>\n",
       "    <tr>\n",
       "      <th>20</th>\n",
       "      <td>12417</td>\n",
       "      <td>0.194169</td>\n",
       "    </tr>\n",
       "    <tr>\n",
       "      <th>23</th>\n",
       "      <td>8454</td>\n",
       "      <td>0.188077</td>\n",
       "    </tr>\n",
       "    <tr>\n",
       "      <th>22</th>\n",
       "      <td>9856</td>\n",
       "      <td>0.181311</td>\n",
       "    </tr>\n",
       "    <tr>\n",
       "      <th>19</th>\n",
       "      <td>14492</td>\n",
       "      <td>0.180237</td>\n",
       "    </tr>\n",
       "    <tr>\n",
       "      <th>1</th>\n",
       "      <td>5464</td>\n",
       "      <td>0.171303</td>\n",
       "    </tr>\n",
       "    <tr>\n",
       "      <th>7</th>\n",
       "      <td>6302</td>\n",
       "      <td>0.170739</td>\n",
       "    </tr>\n",
       "    <tr>\n",
       "      <th>0</th>\n",
       "      <td>9452</td>\n",
       "      <td>0.166208</td>\n",
       "    </tr>\n",
       "    <tr>\n",
       "      <th>18</th>\n",
       "      <td>16791</td>\n",
       "      <td>0.165744</td>\n",
       "    </tr>\n",
       "    <tr>\n",
       "      <th>15</th>\n",
       "      <td>16384</td>\n",
       "      <td>0.155762</td>\n",
       "    </tr>\n",
       "    <tr>\n",
       "      <th>17</th>\n",
       "      <td>18131</td>\n",
       "      <td>0.154597</td>\n",
       "    </tr>\n",
       "    <tr>\n",
       "      <th>16</th>\n",
       "      <td>19141</td>\n",
       "      <td>0.148059</td>\n",
       "    </tr>\n",
       "    <tr>\n",
       "      <th>8</th>\n",
       "      <td>12540</td>\n",
       "      <td>0.140112</td>\n",
       "    </tr>\n",
       "    <tr>\n",
       "      <th>13</th>\n",
       "      <td>17424</td>\n",
       "      <td>0.137454</td>\n",
       "    </tr>\n",
       "    <tr>\n",
       "      <th>12</th>\n",
       "      <td>17010</td>\n",
       "      <td>0.136449</td>\n",
       "    </tr>\n",
       "    <tr>\n",
       "      <th>14</th>\n",
       "      <td>19243</td>\n",
       "      <td>0.135738</td>\n",
       "    </tr>\n",
       "    <tr>\n",
       "      <th>9</th>\n",
       "      <td>14892</td>\n",
       "      <td>0.132084</td>\n",
       "    </tr>\n",
       "    <tr>\n",
       "      <th>11</th>\n",
       "      <td>16334</td>\n",
       "      <td>0.124832</td>\n",
       "    </tr>\n",
       "    <tr>\n",
       "      <th>10</th>\n",
       "      <td>15426</td>\n",
       "      <td>0.119214</td>\n",
       "    </tr>\n",
       "  </tbody>\n",
       "</table>\n",
       "</div>"
      ],
      "text/plain": [
       "                 size      mean\n",
       "CRASH_DATETIME                 \n",
       "4                3374  0.216064\n",
       "5                3244  0.214858\n",
       "3                3448  0.212297\n",
       "6                4857  0.199918\n",
       "21              10566  0.197804\n",
       "2                4103  0.196198\n",
       "20              12417  0.194169\n",
       "23               8454  0.188077\n",
       "22               9856  0.181311\n",
       "19              14492  0.180237\n",
       "1                5464  0.171303\n",
       "7                6302  0.170739\n",
       "0                9452  0.166208\n",
       "18              16791  0.165744\n",
       "15              16384  0.155762\n",
       "17              18131  0.154597\n",
       "16              19141  0.148059\n",
       "8               12540  0.140112\n",
       "13              17424  0.137454\n",
       "12              17010  0.136449\n",
       "14              19243  0.135738\n",
       "9               14892  0.132084\n",
       "11              16334  0.124832\n",
       "10              15426  0.119214"
      ]
     },
     "execution_count": 5,
     "metadata": {},
     "output_type": "execute_result"
    }
   ],
   "source": [
    "df.groupby(df['CRASH_DATETIME'].dt.hour)['CASUALTY'].agg(['size', 'mean']).sort_values('mean', ascending=False)"
   ]
  },
  {
   "cell_type": "code",
   "execution_count": 6,
   "id": "b1a42203",
   "metadata": {},
   "outputs": [],
   "source": [
    "df['IS_NIGHT'] = df['CRASH_DATETIME'].dt.hour.isin([*range(8), *range(19, 25)]).astype(int)"
   ]
  },
  {
   "cell_type": "code",
   "execution_count": 7,
   "id": "6311ddf1",
   "metadata": {},
   "outputs": [
    {
     "data": {
      "text/plain": [
       "CRASH_DATETIME\n",
       "False    0.155488\n",
       "True     0.162344\n",
       "Name: CASUALTY, dtype: float64"
      ]
     },
     "execution_count": 7,
     "metadata": {},
     "output_type": "execute_result"
    }
   ],
   "source": [
    "df.groupby(df['CRASH_DATETIME'].dt.day_name().isin(['Saturday', 'Sunday']))['CASUALTY'].mean().sort_values()"
   ]
  },
  {
   "cell_type": "code",
   "execution_count": 8,
   "id": "0e5d726f",
   "metadata": {},
   "outputs": [],
   "source": [
    "X = df.drop(columns=['CRASH_DATETIME', 'CLUSTER', 'CASUALTY'])\n",
    "y = df['CASUALTY']\n",
    "\n",
    "kf = StratifiedKFold(shuffle=True, random_state=2022)"
   ]
  },
  {
   "cell_type": "markdown",
   "id": "bf6dd953",
   "metadata": {},
   "source": [
    "# Baseline Model"
   ]
  },
  {
   "cell_type": "code",
   "execution_count": 9,
   "id": "b285b0a3",
   "metadata": {},
   "outputs": [
    {
     "name": "stdout",
     "output_type": "stream",
     "text": [
      "5-Fold Cross Validation Average F1-score = 0.0\n"
     ]
    }
   ],
   "source": [
    "dummy = cross_validation(X, y, kf, DummyClassifier)\n",
    "print(\"5-Fold Cross Validation Average F1-score =\", dummy)"
   ]
  },
  {
   "cell_type": "markdown",
   "id": "21c578b1",
   "metadata": {},
   "source": [
    "# Logistic Regression"
   ]
  },
  {
   "cell_type": "code",
   "execution_count": 10,
   "id": "786e9abb",
   "metadata": {},
   "outputs": [
    {
     "name": "stdout",
     "output_type": "stream",
     "text": [
      "5-Fold Cross Validation Average F1-score = 0.04980265892647129\n"
     ]
    }
   ],
   "source": [
    "log = cross_validation(X, y, kf, LogisticRegression)\n",
    "print(\"5-Fold Cross Validation Average F1-score =\", log)"
   ]
  },
  {
   "cell_type": "code",
   "execution_count": 11,
   "id": "d73cb65b",
   "metadata": {},
   "outputs": [],
   "source": [
    "log = cross_val_score(LogisticRegression(), X, y, scoring='f1').mean()"
   ]
  },
  {
   "cell_type": "markdown",
   "id": "1316190e",
   "metadata": {},
   "source": [
    "# Random Forest"
   ]
  },
  {
   "cell_type": "code",
   "execution_count": 12,
   "id": "563814b7",
   "metadata": {},
   "outputs": [
    {
     "name": "stdout",
     "output_type": "stream",
     "text": [
      "5-Fold Cross Validation Average F1-score = 0.05500311167459282\n"
     ]
    }
   ],
   "source": [
    "rf = cross_validation(X, y, kf, RandomForestClassifier, n_jobs=-1)\n",
    "print(\"5-Fold Cross Validation Average F1-score =\", rf)"
   ]
  },
  {
   "cell_type": "code",
   "execution_count": 13,
   "id": "7e041350",
   "metadata": {},
   "outputs": [],
   "source": [
    "rf = cross_val_score(RandomForestClassifier(n_jobs=-1), X, y, scoring='f1').mean()"
   ]
  },
  {
   "cell_type": "markdown",
   "id": "93395c2c",
   "metadata": {},
   "source": [
    "# Decision Tree"
   ]
  },
  {
   "cell_type": "code",
   "execution_count": 14,
   "id": "b20054a7",
   "metadata": {},
   "outputs": [
    {
     "name": "stdout",
     "output_type": "stream",
     "text": [
      "5-Fold Cross Validation Average F1-score = 0.05500311167459282\n"
     ]
    }
   ],
   "source": [
    "tree = cross_validation(X, y, kf, DecisionTreeClassifier)\n",
    "print(\"5-Fold Cross Validation Average F1-score =\", tree)"
   ]
  },
  {
   "cell_type": "code",
   "execution_count": 15,
   "id": "95ed748e",
   "metadata": {},
   "outputs": [],
   "source": [
    "tree = cross_val_score(DecisionTreeClassifier(), X, y, scoring='f1').mean()"
   ]
  },
  {
   "cell_type": "markdown",
   "id": "2e7f13a1",
   "metadata": {},
   "source": [
    "# Ensemble"
   ]
  },
  {
   "cell_type": "code",
   "execution_count": 16,
   "id": "c5306e3f",
   "metadata": {},
   "outputs": [
    {
     "name": "stdout",
     "output_type": "stream",
     "text": [
      "5-Fold Cross Validation Average F1-score = 0.05500311167459282\n"
     ]
    }
   ],
   "source": [
    "models = [\n",
    "    ('lr', LogisticRegression()),\n",
    "    ('rf', RandomForestClassifier(n_jobs=-1)),\n",
    "    ('tree', DecisionTreeClassifier())\n",
    "]\n",
    "\n",
    "ensemble = cross_validation(X, y, kf, VotingClassifier, estimators=models)\n",
    "print(\"5-Fold Cross Validation Average F1-score =\", ensemble)"
   ]
  },
  {
   "cell_type": "code",
   "execution_count": 17,
   "id": "23660b64",
   "metadata": {},
   "outputs": [],
   "source": [
    "ensemble = cross_val_score(VotingClassifier(estimators=models, n_jobs=-1), X, y, scoring='f1').mean()"
   ]
  },
  {
   "cell_type": "markdown",
   "id": "e107a717",
   "metadata": {},
   "source": [
    "# Plot the F1 scores"
   ]
  },
  {
   "cell_type": "code",
   "execution_count": 18,
   "id": "f3632535",
   "metadata": {},
   "outputs": [],
   "source": [
    "data_to_plot = pd.DataFrame({\n",
    "    'model': ['Baseline', 'Logistic Regression', 'Random Forest', 'Decision Tree', 'Ensemble'],\n",
    "    'Scores': [dummy, log, rf, tree, ensemble]}\n",
    ").sort_values('Scores')"
   ]
  },
  {
   "cell_type": "code",
   "execution_count": 19,
   "id": "faf99fbb",
   "metadata": {},
   "outputs": [
    {
     "data": {
      "image/png": "[encoded data removed]",
      "text/plain": [
       "<Figure size 864x360 with 1 Axes>"
      ]
     },
     "metadata": {
      "needs_background": "light"
     },
     "output_type": "display_data"
    }
   ],
   "source": [
    "plot_bars(\n",
    "    x='model', y='Scores', data=data_to_plot.query('model != \"Baseline\"'), \n",
    "    to_filename='third_pass', baseline=data_to_plot.loc[data_to_plot['model'] == \"Baseline\", 'Scores'].iat[-1], \n",
    "    title='F1 Scores (Third Pass)'\n",
    ")"
   ]
  },
  {
   "cell_type": "code",
   "execution_count": null,
   "id": "e8c6cb58",
   "metadata": {},
   "outputs": [],
   "source": []
  }
 ],
 "metadata": {
  "kernelspec": {
   "display_name": "Python 3.9.12",
   "language": "python",
   "name": "python3"
  },
  "language_info": {
   "codemirror_mode": {
    "name": "ipython",
    "version": 3
   },
   "file_extension": ".py",
   "mimetype": "text/x-python",
   "name": "python",
   "nbconvert_exporter": "python",
   "pygments_lexer": "ipython3",
   "version": "3.9.12"
  }
 },
 "nbformat": 4,
 "nbformat_minor": 5
}
